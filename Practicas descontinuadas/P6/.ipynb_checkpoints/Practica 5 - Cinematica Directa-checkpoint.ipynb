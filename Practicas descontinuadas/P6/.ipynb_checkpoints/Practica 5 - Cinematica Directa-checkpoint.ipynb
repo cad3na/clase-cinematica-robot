{
 "cells": [
  {
   "cell_type": "markdown",
   "metadata": {},
   "source": [
    "# Cinemática Directa"
   ]
  },
  {
   "cell_type": "markdown",
   "metadata": {},
   "source": [
    "En esta práctica aprenderemos a desplegar visualmente todos los elementos de la cinemática directa, para lo cual nos hace falta revisar la visualización de los ejes coordenados; para esto usaremos la función `quiver` de matplotlib."
   ]
  },
  {
   "cell_type": "code",
   "execution_count": null,
   "metadata": {
    "collapsed": true
   },
   "outputs": [],
   "source": [
    "%matplotlib notebook\n",
    "from matplotlib.pyplot import figure, plot, style\n",
    "from mpl_toolkits.mplot3d import Axes3D\n",
    "style.use(\"ggplot\")"
   ]
  },
  {
   "cell_type": "markdown",
   "metadata": {},
   "source": [
    "Empezaremos desplegando los ejes coordenados en el origen de nuestra gráfica, la cual tiene una posición, y orientación de cada eje coordenado:"
   ]
  },
  {
   "cell_type": "code",
   "execution_count": null,
   "metadata": {
    "collapsed": true
   },
   "outputs": [],
   "source": [
    "o = [0, 0, 0]\n",
    "\n",
    "i = [1, 0, 0]\n",
    "j = [0, 1, 0]\n",
    "k = [0, 0, 1]"
   ]
  },
  {
   "cell_type": "markdown",
   "metadata": {},
   "source": [
    "Para poder crear las flechas mecesarias, tenemos que vaciar los elementos de estos arreglos, separandolos en componentes en $x$, $y$ y $z$ de su origen, asi como la dirección en la que apuntan $u$, $v$, $w$:"
   ]
  },
  {
   "cell_type": "code",
   "execution_count": null,
   "metadata": {
    "collapsed": false
   },
   "outputs": [],
   "source": [
    "xs, ys, zs = zip(o, o, o)\n",
    "us, vs, ws = zip(i, j, k)"
   ]
  },
  {
   "cell_type": "markdown",
   "metadata": {},
   "source": [
    "Si utilizamos estos arreglos para graficar los elementos, tendremos lo siguiente:"
   ]
  },
  {
   "cell_type": "code",
   "execution_count": null,
   "metadata": {
    "collapsed": false
   },
   "outputs": [],
   "source": [
    "f1 = figure(figsize=(8, 8))\n",
    "a1 = f1.add_subplot(111, projection='3d')\n",
    "\n",
    "a1.quiver(xs, ys, zs, us, vs, ws, pivot='tail', length=0.5)\n",
    "\n",
    "a1.set_xlim(-2.1, 2.1)\n",
    "a1.set_ylim(-2.1, 2.1)\n",
    "a1.set_zlim(-2.1, 2.1);"
   ]
  },
  {
   "cell_type": "markdown",
   "metadata": {},
   "source": [
    "Lo cual se ve prefectamente bien como eje coordenado, de no ser porque no sabemos cual dirección es $x$, cual $y$ y cual $z$, para esto utilizaremos colores, si separamos cada eje coordenado en una llamada a `quiver` tendremos que a cada uno podemos darle un color diferente, escogeremos azul para $x$, verde para $y$ y rojo para $z$:"
   ]
  },
  {
   "cell_type": "code",
   "execution_count": null,
   "metadata": {
    "collapsed": false
   },
   "outputs": [],
   "source": [
    "f1 = figure(figsize=(8, 8))\n",
    "a1 = f1.add_subplot(111, projection='3d')\n",
    "\n",
    "xs, ys, zs = zip(o)\n",
    "us, vs, ws = zip(i)\n",
    "a1.quiver(xs, ys, zs, us, vs, ws, pivot='tail', length=0.5, color='b')\n",
    "\n",
    "xs, ys, zs = zip(o)\n",
    "us, vs, ws = zip(j)\n",
    "a1.quiver(xs, ys, zs, us, vs, ws, pivot='tail', length=0.5, color='g')\n",
    "\n",
    "xs, ys, zs = zip(o)\n",
    "us, vs, ws = zip(k)\n",
    "a1.quiver(xs, ys, zs, us, vs, ws, pivot='tail', length=0.5, color='r')\n",
    "\n",
    "a1.set_xlim(-2.1, 2.1)\n",
    "a1.set_ylim(-2.1, 2.1)\n",
    "a1.set_zlim(-2.1, 2.1);"
   ]
  },
  {
   "cell_type": "markdown",
   "metadata": {},
   "source": [
    "Sin embargo el código es demasiado largo para ser legible en una pasada, podemos meter todos los calculos y llamadas a quiver en una función lo cual nos ayudará a poder usarlo en multiples ocasiones:"
   ]
  },
  {
   "cell_type": "code",
   "execution_count": null,
   "metadata": {
    "collapsed": false
   },
   "outputs": [],
   "source": [
    "def ejes(axis, origen, long=0.5):\n",
    "    \n",
    "    i = [1, 0, 0]\n",
    "    j = [0, 1, 0]\n",
    "    k = [0, 0, 1]\n",
    "    \n",
    "    xs, ys, zs = zip(origen)\n",
    "    us, vs, ws = zip(i)\n",
    "    axis.quiver(xs, ys, zs, us, vs, ws, pivot='tail', length=long, color='b')\n",
    "\n",
    "    xs, ys, zs = zip(origen)\n",
    "    us, vs, ws = zip(j)\n",
    "    axis.quiver(xs, ys, zs, us, vs, ws, pivot='tail', length=long, color='g')\n",
    "\n",
    "    xs, ys, zs = zip(origen)\n",
    "    us, vs, ws = zip(k)\n",
    "    axis.quiver(xs, ys, zs, us, vs, ws, pivot='tail', length=long, color='r')"
   ]
  },
  {
   "cell_type": "markdown",
   "metadata": {},
   "source": [
    "Si ahora grafico llamando esta función dos veces para graficar dos grupos de ejes coordenados, tendremos:"
   ]
  },
  {
   "cell_type": "code",
   "execution_count": null,
   "metadata": {
    "collapsed": false
   },
   "outputs": [],
   "source": [
    "f1 = figure(figsize=(8, 8))\n",
    "a1 = f1.add_subplot(111, projection='3d')\n",
    "\n",
    "ejes(a1, [0, 0, 0], 0.5)\n",
    "ejes(a1, [1, 1, 1], 0.8)\n",
    "\n",
    "a1.set_xlim(-2.1, 2.1)\n",
    "a1.set_ylim(-2.1, 2.1)\n",
    "a1.set_zlim(-2.1, 2.1);"
   ]
  },
  {
   "cell_type": "markdown",
   "metadata": {},
   "source": [
    "Aqui podrás notar que los ejes coordenados se graficaron correctamente, pero no hemos hecho nada para tomar en cuenta su orientación, esto lo lograremos usando la matriz de transformación homogénea y revisando la submatriz de rotación.\n",
    "\n",
    "Primero importemos las funciones necesarias de la libreria `numpy`."
   ]
  },
  {
   "cell_type": "code",
   "execution_count": null,
   "metadata": {
    "collapsed": true
   },
   "outputs": [],
   "source": [
    "from numpy import matrix, sin, cos, pi\n",
    "τ = 2*pi"
   ]
  },
  {
   "cell_type": "markdown",
   "metadata": {},
   "source": [
    "Definamos una matriz de transformación sencilla para este ejemplo:"
   ]
  },
  {
   "cell_type": "code",
   "execution_count": null,
   "metadata": {
    "collapsed": false
   },
   "outputs": [],
   "source": [
    "l = 1\n",
    "θ = τ/12\n",
    "\n",
    "A1 = matrix([[cos(θ), -sin(θ), 0, l*cos(θ)],\n",
    "             [sin(θ), cos(θ), 0, l*sin(θ)],\n",
    "             [0, 0, 1, 0],\n",
    "             [0, 0, 0, 1]])\n",
    "A1"
   ]
  },
  {
   "cell_type": "markdown",
   "metadata": {},
   "source": [
    "De aqui, el ultimo vector columna es la posición del origen a graficar:"
   ]
  },
  {
   "cell_type": "code",
   "execution_count": null,
   "metadata": {
    "collapsed": false
   },
   "outputs": [],
   "source": [
    "o1 = A1[:3, 3:]\n",
    "o1"
   ]
  },
  {
   "cell_type": "markdown",
   "metadata": {},
   "source": [
    "Y la submatriz de $3\\times3$ del inicio es la orientación de este"
   ]
  },
  {
   "cell_type": "code",
   "execution_count": null,
   "metadata": {
    "collapsed": false
   },
   "outputs": [],
   "source": [
    "R1 = A1[:3, :3]\n",
    "R1"
   ]
  },
  {
   "cell_type": "markdown",
   "metadata": {},
   "source": [
    "De aqui utilizaremos como la orientación del vector unitario $\\hat{i}$ el primer vector columna de esta matriz, la orientación del vector unitario $\\hat{j}$ el segundo vector columna y la orientación del vector unitario $\\hat{k}$ el tercer vector columna, veamos por ejemplo $\\hat{i}$:"
   ]
  },
  {
   "cell_type": "code",
   "execution_count": null,
   "metadata": {
    "collapsed": false
   },
   "outputs": [],
   "source": [
    "R1[:3, :1].T.tolist()[0]"
   ]
  },
  {
   "cell_type": "markdown",
   "metadata": {},
   "source": [
    "Una vez resuelto esto, tan solo es cuestion de meterlo en nuestra función de nuevo:"
   ]
  },
  {
   "cell_type": "code",
   "execution_count": null,
   "metadata": {
    "collapsed": true
   },
   "outputs": [],
   "source": [
    "def ejes(axis, origen, orientacion, long=0.5):\n",
    "    \n",
    "    i = orientacion[:3, :1].T.tolist()[0]\n",
    "    j = orientacion[:3, 1:2].T.tolist()[0]\n",
    "    k = orientacion[:3, 2:3].T.tolist()[0]    \n",
    "    \n",
    "    xs, ys, zs = origen.T.tolist()[0]\n",
    "    us, vs, ws = zip(i)\n",
    "    axis.quiver(xs, ys, zs, us, vs, ws, pivot='tail', length=long, color='b')\n",
    "\n",
    "    us, vs, ws = zip(j)\n",
    "    axis.quiver(xs, ys, zs, us, vs, ws, pivot='tail', length=long, color='g')\n",
    "\n",
    "    us, vs, ws = zip(k)\n",
    "    axis.quiver(xs, ys, zs, us, vs, ws, pivot='tail', length=long, color='r')"
   ]
  },
  {
   "cell_type": "markdown",
   "metadata": {},
   "source": [
    "Y para terminar este ejemplo, graficaremos tanto la posición origen, como la primer articulación que nos encontramos despues de esta matriz de transformación $A_1$:"
   ]
  },
  {
   "cell_type": "code",
   "execution_count": null,
   "metadata": {
    "collapsed": true
   },
   "outputs": [],
   "source": [
    "from numpy import eye"
   ]
  },
  {
   "cell_type": "code",
   "execution_count": null,
   "metadata": {
    "collapsed": false
   },
   "outputs": [],
   "source": [
    "o0 = matrix([[0],[0],[0]])\n",
    "o0"
   ]
  },
  {
   "cell_type": "code",
   "execution_count": null,
   "metadata": {
    "collapsed": false
   },
   "outputs": [],
   "source": [
    "R0 = eye(3)\n",
    "R0"
   ]
  },
  {
   "cell_type": "code",
   "execution_count": null,
   "metadata": {
    "collapsed": false
   },
   "outputs": [],
   "source": [
    "f1 = figure(figsize=(8, 8))\n",
    "a1 = f1.add_subplot(111, projection='3d')\n",
    "\n",
    "ejes(a1, o0, R0, 0.5)\n",
    "ejes(a1, o1, R1, 0.5)\n",
    "\n",
    "a1.set_xlim(-2.1, 2.1)\n",
    "a1.set_ylim(-2.1, 2.1)\n",
    "a1.set_zlim(-2.1, 2.1);"
   ]
  },
  {
   "cell_type": "markdown",
   "metadata": {},
   "source": [
    "Si ahora graficamos una linea que representa el eslabon entre estas articulaciones, tendremos:"
   ]
  },
  {
   "cell_type": "code",
   "execution_count": null,
   "metadata": {
    "collapsed": true
   },
   "outputs": [],
   "source": [
    "xs = [o0.item(0), o1.item(0)]\n",
    "ys = [o0.item(1), o1.item(1)]\n",
    "zs = [o0.item(2), o1.item(2)]"
   ]
  },
  {
   "cell_type": "code",
   "execution_count": null,
   "metadata": {
    "collapsed": false
   },
   "outputs": [],
   "source": [
    "f1 = figure(figsize=(8, 8))\n",
    "a1 = f1.add_subplot(111, projection='3d')\n",
    "\n",
    "ejes(a1, o0, R0, 0.5)\n",
    "ejes(a1, o1, R1, 0.5)\n",
    "\n",
    "a1.plot(xs, ys, zs, '-o', lw=10, solid_capstyle='round')\n",
    "\n",
    "a1.set_xlim(-2.1, 2.1)\n",
    "a1.set_ylim(-2.1, 2.1)\n",
    "a1.set_zlim(-2.1, 2.1);"
   ]
  },
  {
   "cell_type": "markdown",
   "metadata": {},
   "source": [
    "# Ejercicio"
   ]
  },
  {
   "cell_type": "markdown",
   "metadata": {},
   "source": [
    "![](./imagenes/puma.png)"
   ]
  },
  {
   "cell_type": "markdown",
   "metadata": {},
   "source": [
    "1. Cree una función que tome como argumentos los parametros de Denavit - Hartenberg y devuelva la matriz de transformación homogénea asociada a cada eslabon.\n",
    "2. Cree una función que dados los angulos del manipulador Stanford que se ve en la figura, grafique las posiciones de los eslabones, junto con los ejes coordenados asociados a cada articulación.\n",
    "3. Utilice las funciones interactivas del notebook para crear una visualización interactiva del manipulador desipuesto (recuerde cambiar al ambiente de `matplotlib inline` para esta visualización)."
   ]
  }
 ],
 "metadata": {
  "kernelspec": {
   "display_name": "Python 3",
   "language": "python",
   "name": "python3"
  },
  "language_info": {
   "codemirror_mode": {
    "name": "ipython",
    "version": 3
   },
   "file_extension": ".py",
   "mimetype": "text/x-python",
   "name": "python",
   "nbconvert_exporter": "python",
   "pygments_lexer": "ipython3",
   "version": "3.4.4"
  }
 },
 "nbformat": 4,
 "nbformat_minor": 0
}
