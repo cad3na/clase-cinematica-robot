{
 "cells": [
  {
   "cell_type": "markdown",
   "metadata": {},
   "source": [
    "# Cinemática Inversa"
   ]
  },
  {
   "cell_type": "markdown",
   "metadata": {},
   "source": [
    "En está práctica utilizaremos la cinemática inversa de un manipulador simple para visualizar los angulos en los grados de libertad necesarios para alcanzar la posición deseada.\n",
    "\n",
    "Lo primero que necesitaremos será importar las librerias de graficación necesarias para desplegar los elementos visuales."
   ]
  },
  {
   "cell_type": "code",
   "execution_count": null,
   "metadata": {
    "collapsed": false
   },
   "outputs": [],
   "source": [
    "%matplotlib notebook\n",
    "from matplotlib.pyplot import figure, style, rcParams, legend\n",
    "from matplotlib.patches import Circle\n",
    "style.use('ggplot')"
   ]
  },
  {
   "cell_type": "markdown",
   "metadata": {},
   "source": [
    "Un truco que podemos utilizar para emplear el esquema de colores `ggplot` correctamente, es guardar la lista de colores en un arreglo, y asi poder accesar a cualquiera de ellos con un indice numérico."
   ]
  },
  {
   "cell_type": "code",
   "execution_count": null,
   "metadata": {
    "collapsed": false
   },
   "outputs": [],
   "source": [
    "lista_colores = rcParams['axes.prop_cycle']\n",
    "colores = [list(lista_colores)[i]['color'] for i in range(len(lista_colores))]\n",
    "colores"
   ]
  },
  {
   "cell_type": "code",
   "execution_count": null,
   "metadata": {
    "collapsed": false
   },
   "outputs": [],
   "source": [
    "colores[2]"
   ]
  },
  {
   "cell_type": "markdown",
   "metadata": {},
   "source": [
    "Importamos tambien algunas funciones de `numpy` necesarias:"
   ]
  },
  {
   "cell_type": "code",
   "execution_count": null,
   "metadata": {
    "collapsed": true
   },
   "outputs": [],
   "source": [
    "from numpy import sin, cos, pi, arctan2"
   ]
  },
  {
   "cell_type": "markdown",
   "metadata": {},
   "source": [
    "Lo primero que tenemos que hacer es graficar nuestro pendulo en una posición inicial, por el momento consideremos que llega al punto $(1, 1)$.\n",
    "\n",
    "Lo siguiente que tenemos que hacer es invocar una función que actualice el estado de la gráfica, dependiendo del punto sobre el que hagamos clic con el mouse, para eso creamos la función `onclick`, que como su nomb re lo indica, será llamada cuando se haga clic sobre la gráfica; para que esto realmente suceda, lo que tenemos que decirle a matplotlib es el nombre de esta función a traves de la llamada de `mpl_connect`."
   ]
  },
  {
   "cell_type": "code",
   "execution_count": null,
   "metadata": {
    "collapsed": false
   },
   "outputs": [],
   "source": [
    "# Se crea la figura en donde se graficará\n",
    "fig = figure(figsize=(8, 8))\n",
    "ax = fig.add_subplot(111)\n",
    "\n",
    "# Se definen las coordenadas iniciales dela gráfica\n",
    "x0, y0 = 0, 0\n",
    "x1, y1 = 1, 1\n",
    "\n",
    "# Se crea la gráfica con las coordenadas iniciales\n",
    "p1, = ax.plot([x0, x1], [y0, y1], '-o')\n",
    "\n",
    "# Se definen los limites de la gráfica\n",
    "ax.set_xlim([-1.1, 1.1])\n",
    "ax.set_ylim([-1.1, 1.1])\n",
    "\n",
    "# Se crea una función que se llamará cada vez que ocurra un evento\n",
    "def onclick(event):\n",
    "    x1, y1 = event.xdata, event.ydata # Se guardan los valores en los que el mouse hizo click\n",
    "    p1.set_data([x0, x1], [y0, y1])   # Se actualiza la grafica con los valores dados\n",
    "\n",
    "# Se llama la funcion \"onclick\" cada vez que se presiona el boton del mouse\n",
    "cid = fig.canvas.mpl_connect('button_press_event', onclick)"
   ]
  },
  {
   "cell_type": "markdown",
   "metadata": {},
   "source": [
    "Sin embargo, nuestro manipulador no puede alcanzar valores aleatorios de $x$ y $y$, de hecho solo puede llegar a valores de $x$ y $y$ tales que:\n",
    "\n",
    "$$\n",
    "x^2 + y^2 = r^2\n",
    "$$\n",
    "\n",
    "Especificamente $r = l$, por lo que en primer lugar, pongamos un circulo en donde deberiamos de hacer clic:"
   ]
  },
  {
   "cell_type": "code",
   "execution_count": null,
   "metadata": {
    "collapsed": true
   },
   "outputs": [],
   "source": [
    "l = 1\n",
    "τ = 2*pi"
   ]
  },
  {
   "cell_type": "code",
   "execution_count": null,
   "metadata": {
    "collapsed": false
   },
   "outputs": [],
   "source": [
    "fig = figure(figsize=(8, 8))\n",
    "ax = fig.add_subplot(111)\n",
    "\n",
    "# Se cambian los valores iniciales de la gráfica para que concuerden\n",
    "# con valores alcanzables del manipulador\n",
    "x0, y0 = 0, 0\n",
    "x1, y1 = l*cos(τ/8), l*sin(τ/8)\n",
    "\n",
    "p1, = ax.plot([x0, x1], [y0, y1], '-o')\n",
    "\n",
    "# Se crea un circulo con centro (0, 0) y radio \"l\"\n",
    "circulo = Circle([0, 0], l, lw=1, ec=colores[1], fc=colores[1])\n",
    "\n",
    "# Se quita relleno del circulo\n",
    "circulo.set_fill(False)\n",
    "\n",
    "# Se agrega una transparencia al circulo para visualizar mejor\n",
    "#circulo.set_alpha(0.2)\n",
    "\n",
    "# Se agrega el circulo a la gráfica\n",
    "ax.add_patch(circulo)\n",
    "\n",
    "ax.set_xlim([-1.1, 1.1])\n",
    "ax.set_ylim([-1.1, 1.1])\n",
    "\n",
    "def onclick(event):\n",
    "    x1, y1 = event.xdata, event.ydata\n",
    "    p1.set_data([x0, x1], [y0, y1])\n",
    "\n",
    "cid = fig.canvas.mpl_connect('button_press_event', onclick)"
   ]
  },
  {
   "cell_type": "markdown",
   "metadata": {},
   "source": [
    "Utilizaremos como discriminante para escoger un punto cercano dentro de las trayectorias posibles del manipulador, el angulo al que estaria el pendulo, es decir calcularemos el angulo de inclinacion del punto escogido por el usuario y calcularemos el punto sobre la trayectoria del pendulo que este a la misma inclinación."
   ]
  },
  {
   "cell_type": "code",
   "execution_count": null,
   "metadata": {
    "collapsed": false
   },
   "outputs": [],
   "source": [
    "fig = figure(figsize=(8, 8))\n",
    "ax = fig.add_subplot(111)\n",
    "\n",
    "x0, y0 = 0, 0\n",
    "x1, y1 = l*cos(τ/8), l*sin(τ/8)\n",
    "\n",
    "p1, = ax.plot([x0, x1], [y0, y1], '-o')\n",
    "\n",
    "circulo = Circle([0, 0], l, lw=1, ec=colores[1], fc=colores[1])\n",
    "circulo.set_fill(False)\n",
    "#circulo.set_alpha(0.2)\n",
    "ax.add_patch(circulo)\n",
    "\n",
    "ax.set_xlim([-1.1, 1.1])\n",
    "ax.set_ylim([-1.1, 1.1])\n",
    "\n",
    "def onclick(event):\n",
    "    x, y = event.xdata, event.ydata\n",
    "    θ = arctan2(y, x)               # Se calcula el angulo del punto dado\n",
    "    x1, y1 = l*cos(θ), l*sin(θ)     # Se calcula un punto en la circunferencia a penas alcanzable por el manipulador\n",
    "    p1.set_data([x0, x1], [y0, y1])\n",
    "\n",
    "cid = fig.canvas.mpl_connect('button_press_event', onclick)"
   ]
  },
  {
   "cell_type": "markdown",
   "metadata": {},
   "source": [
    "En este punto, debido a que la cinemática del pendulo simple es... demasiado simple ya tenemos un ejemplo funcional de la posición, sin embargo para una cinemática con mas grados de libertad, tenemos que calcular la cinemática inversa y despues la cinemática directa dados los angulos calculados, por lo que hare esto a continuación solo para completar el ejemplo.\n",
    "\n",
    "> Nota que he agregado funciones para la cinemática inversa y la cinemática directa, las cuales son faciles de calcular, y que la función de la cinemática inversa devuelve los angulos de cada grado de libertad, a partir de la posición final, y que la función de la cinemática directa devuelve dos arreglos, uno con las componentes en $x$ de cada articulación, y otro con las componentes en $y$ de cada articulación."
   ]
  },
  {
   "cell_type": "code",
   "execution_count": null,
   "metadata": {
    "collapsed": true
   },
   "outputs": [],
   "source": [
    "def cinematica_inversa(x, y):\n",
    "    from numpy import arctan2\n",
    "    q1 = arctan2(y, x)\n",
    "    return q1"
   ]
  },
  {
   "cell_type": "code",
   "execution_count": null,
   "metadata": {
    "collapsed": true
   },
   "outputs": [],
   "source": [
    "def cinematica_directa(q1):\n",
    "    from numpy import sin, cos\n",
    "    l = 1\n",
    "    x0, y0 = 0, 0\n",
    "    x1 = l*cos(q1)\n",
    "    y1 = l*sin(q1)\n",
    "    return [x0, x1], [y0, y1]"
   ]
  },
  {
   "cell_type": "code",
   "execution_count": null,
   "metadata": {
    "collapsed": false
   },
   "outputs": [],
   "source": [
    "fig = figure(figsize=(8, 8))\n",
    "ax = fig.add_subplot(111)\n",
    "\n",
    "x0, y0 = 0, 0\n",
    "x1, y1 = l*cos(τ/8), l*sin(τ/8)\n",
    "\n",
    "p1, = ax.plot([x0, x1], [y0, y1], '-o')\n",
    "\n",
    "circulo = Circle([0, 0], l, lw=1, ec=colores[1], fc=colores[1])\n",
    "circulo.set_fill(False)\n",
    "#circulo.set_alpha(0.2)\n",
    "ax.add_patch(circulo)\n",
    "\n",
    "ax.set_xlim([-1.1, 1.1])\n",
    "ax.set_ylim([-1.1, 1.1])\n",
    "\n",
    "def onclick(event):\n",
    "    x, y = event.xdata, event.ydata\n",
    "    θ = arctan2(y, x)\n",
    "    xf, yf = l*cos(θ), l*sin(θ)\n",
    "    q1 = cinematica_inversa(x1, y1) # Se calcula la cinemática inversa del punto alcanzable\n",
    "    xs, ys = cinematica_directa(q1) # Se calcula la cinematica directa del punto alcanzable\n",
    "    p1.set_data(xs, ys)\n",
    "\n",
    "cid = fig.canvas.mpl_connect('button_press_event', onclick)"
   ]
  },
  {
   "cell_type": "markdown",
   "metadata": {},
   "source": [
    "Por ultimo agreguemos una leyenda a la gráfica que indique el valor en grados de la articulación de mi pendulo."
   ]
  },
  {
   "cell_type": "code",
   "execution_count": null,
   "metadata": {
    "collapsed": false
   },
   "outputs": [],
   "source": [
    "from numpy import degrees\n",
    "\n",
    "fig = figure(figsize=(8, 8))\n",
    "ax = fig.add_subplot(111)\n",
    "\n",
    "x0, y0 = 0, 0\n",
    "x1, y1 = l*cos(τ/8), l*sin(τ/8)\n",
    "\n",
    "p1, = ax.plot([x0, x1], [y0, y1], '-o')\n",
    "\n",
    "circulo = Circle([0, 0], l, lw=1, ec=colores[1], fc=colores[1])\n",
    "circulo.set_fill(False)\n",
    "#circulo.set_alpha(0.2)\n",
    "ax.add_patch(circulo)\n",
    "\n",
    "# Agregamos una leyenda del angulo graficado\n",
    "legend([p1], [r'$q1 = 45 ^o$'])\n",
    "\n",
    "ax.set_xlim([-1.1, 1.1])\n",
    "ax.set_ylim([-1.1, 1.1])\n",
    "\n",
    "def onclick(event):\n",
    "    x, y = event.xdata, event.ydata\n",
    "    θ = arctan2(y, x)\n",
    "    x1, y1 = l*cos(θ), l*sin(θ)\n",
    "    q1 = cinematica_inversa(x1, y1)\n",
    "    xs, ys = cinematica_directa(q1)\n",
    "    p1.set_data(xs, ys)\n",
    "    # Graficamos la leyenda con el angulo nuevo\n",
    "    legend([p1], [r'$q1 ='+ str(degrees(q1)) +' ^o$'])\n",
    "\n",
    "cid = fig.canvas.mpl_connect('button_press_event', onclick)"
   ]
  },
  {
   "cell_type": "markdown",
   "metadata": {},
   "source": [
    "# Ejercicio"
   ]
  },
  {
   "cell_type": "markdown",
   "metadata": {},
   "source": [
    "Utilice la cinematica inversa del pendulo doble para crear una visualizacion de los angulos necesarios para llegar a la posición deseada."
   ]
  }
 ],
 "metadata": {
  "kernelspec": {
   "display_name": "Python 3",
   "language": "python",
   "name": "python3"
  },
  "language_info": {
   "codemirror_mode": {
    "name": "ipython",
    "version": 3
   },
   "file_extension": ".py",
   "mimetype": "text/x-python",
   "name": "python",
   "nbconvert_exporter": "python",
   "pygments_lexer": "ipython3",
   "version": "3.5.1"
  }
 },
 "nbformat": 4,
 "nbformat_minor": 0
}
