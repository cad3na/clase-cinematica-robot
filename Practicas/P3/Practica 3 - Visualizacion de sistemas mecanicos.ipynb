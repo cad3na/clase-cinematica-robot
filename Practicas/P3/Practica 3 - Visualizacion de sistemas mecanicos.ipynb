{
 "cells": [
  {
   "cell_type": "markdown",
   "metadata": {},
   "source": [
    "# Visualización de sistemas mecánicos"
   ]
  },
  {
   "cell_type": "markdown",
   "metadata": {},
   "source": [
    "## Interactividad"
   ]
  },
  {
   "cell_type": "markdown",
   "metadata": {},
   "source": [
    "Dentro del ambiente de desarrollo Jupyter, tenemos la oportunidad de ejecutar código en Python entre otros lenguajes; sin embargo se agregan muchas funciones especiales a Jupyter, las cuales son razon especifica para que estas prácticas esten diseñadas para este ambiente.\n",
    "\n",
    "En este momento empezaremos a utilizar las capacidades interactivas de Jupyter, empezaremos importando la función `interact` y `fixed` de la libreria de widgets:"
   ]
  },
  {
   "cell_type": "code",
   "execution_count": null,
   "metadata": {
    "collapsed": false
   },
   "outputs": [],
   "source": [
    "# Se importan widgets de IPython para interactuar con la funcion\n",
    "from IPython.html.widgets import interact, fixed"
   ]
  },
  {
   "cell_type": "code",
   "execution_count": null,
   "metadata": {
    "collapsed": true
   },
   "outputs": [],
   "source": [
    "from numpy import pi\n",
    "τ = 2*pi"
   ]
  },
  {
   "cell_type": "markdown",
   "metadata": {},
   "source": [
    "Vamos a definir una función como ejemplo, si la definimos y la usamos, obtendremos el resultado esperado:"
   ]
  },
  {
   "cell_type": "code",
   "execution_count": null,
   "metadata": {
    "collapsed": true
   },
   "outputs": [],
   "source": [
    "f = lambda x: x**2 + 5"
   ]
  },
  {
   "cell_type": "code",
   "execution_count": null,
   "metadata": {
    "collapsed": false
   },
   "outputs": [],
   "source": [
    "f(1)"
   ]
  },
  {
   "cell_type": "markdown",
   "metadata": {},
   "source": [
    "Sin embargo es muy aburrido ¿Que pasa si queremos sondear la función por valores interesantes?\n",
    "\n",
    "La sintaxis de la función `interact` es como sigue:\n",
    "\n",
    "```\n",
    "interact(funcion, valores_a_variar)\n",
    "```\n",
    "\n",
    "asi pues, empezando conla función podemos hacer lo siguiente:"
   ]
  },
  {
   "cell_type": "code",
   "execution_count": null,
   "metadata": {
    "collapsed": false
   },
   "outputs": [],
   "source": [
    "interact(f, x=5)"
   ]
  },
  {
   "cell_type": "markdown",
   "metadata": {},
   "source": [
    "> Nota que el deslizador empieza en el valor que le dimos y en el punto medio. Ademas, si solo le damos valores enteros, el programa va a suponer que no nos interesan los valores flotantes.\n",
    "\n",
    "Para dar un rango de valores que queremos revisar, los damos en forma de tupla:\n",
    "\n",
    "```\n",
    "(valor_1, valor_2)\n",
    "```"
   ]
  },
  {
   "cell_type": "code",
   "execution_count": null,
   "metadata": {
    "collapsed": false
   },
   "outputs": [],
   "source": [
    "interact(f, x=(0, τ))"
   ]
  },
  {
   "cell_type": "markdown",
   "metadata": {},
   "source": [
    "## Interactividad de gráficas"
   ]
  },
  {
   "cell_type": "markdown",
   "metadata": {},
   "source": [
    "Muy bien, empecemos con el ejemplo del pendulo doble, lo primero que hacemos es importar la libreria de graficación:"
   ]
  },
  {
   "cell_type": "code",
   "execution_count": null,
   "metadata": {
    "collapsed": true
   },
   "outputs": [],
   "source": [
    "%matplotlib inline\n",
    "from matplotlib.pyplot import figure, plot, style\n",
    "from mpl_toolkits.mplot3d import Axes3D\n",
    "style.use(\"ggplot\")"
   ]
  },
  {
   "cell_type": "markdown",
   "metadata": {},
   "source": [
    "En este caso voy a utilizar una rotación alrededor de $z$ y una traslación en el eje $x$, asi que defino estas funciones:"
   ]
  },
  {
   "cell_type": "code",
   "execution_count": null,
   "metadata": {
    "collapsed": true
   },
   "outputs": [],
   "source": [
    "def r_z(θ):\n",
    "    from numpy import matrix, sin, cos\n",
    "    \n",
    "    A = matrix([[cos(θ), -sin(θ), 0, 0],\n",
    "                [sin(θ), cos(θ), 0, 0],\n",
    "                [0, 0, 1, 0],\n",
    "                [0, 0, 0, 1]])\n",
    "    return A\n",
    "\n",
    "def t_x(x):\n",
    "    from numpy import matrix, sin, cos\n",
    "    \n",
    "    A = matrix([[1, 0, 0, x],\n",
    "                [0, 1, 0, 0],\n",
    "                [0, 0, 1, 0],\n",
    "                [0, 0, 0, 1]])\n",
    "    \n",
    "    return A"
   ]
  },
  {
   "cell_type": "markdown",
   "metadata": {},
   "source": [
    "Y voy a escribir una función `robot`, la cual va a tomar como argumentos mis variables, es decir los grados de libertad, y con estos valores calcular las transformaciones necesarias para obtener las posiciones de cada articulación y del actuador final. Una vez que tengo todas las posiciones, tan solo tengo que graficarlas para poder manipular esta grafica:"
   ]
  },
  {
   "cell_type": "code",
   "execution_count": null,
   "metadata": {
    "collapsed": false
   },
   "outputs": [],
   "source": [
    "def robot(q1=0, q2=0):\n",
    "    # Se importan funciones necesarias de la libreria numpy\n",
    "    from numpy import matrix, sin, cos\n",
    "    \n",
    "    # Se definen constantes\n",
    "    l1 = 1\n",
    "    l2 = 1\n",
    "    \n",
    "    # Se define el punto origen\n",
    "    o0 = matrix([[0], [0], [0], [1]])\n",
    "    \n",
    "    # Se calculas las trasnformaciones H1 y H2\n",
    "    H1 = r_z(q1)*t_x(l1)\n",
    "    H2 = r_z(q2)*t_x(l2)\n",
    "    \n",
    "    # Se calcula la cinematica directa\n",
    "    o1 = H1*o0\n",
    "    o2 = H1*H2*o0\n",
    "    \n",
    "    # Define arreglos con las coordenadas x, y, y z de cada punto\n",
    "    xs = [o0.item(0), o1.item(0), o2.item(0)]\n",
    "    ys = [o0.item(1), o1.item(1), o2.item(1)]\n",
    "    zs = [o0.item(2), o1.item(2), o2.item(2)]\n",
    "    \n",
    "    # Define el cuadro general en donde se diuja la gráfica\n",
    "    f1 = figure(figsize=(8, 8))\n",
    "    # Agrega el area para graficar a nuestra figura, y la define como un espacio tridimensional\n",
    "    a1 = f1.add_subplot(111, projection='3d')\n",
    "\n",
    "    # Utiliza los datos en xs, ys y zs para graficar una linea con bolitas en cada extremo\n",
    "    a1.plot(xs, ys, zs, \"-o\")\n",
    "    \n",
    "    # Define los limites de la grafica en cada eje\n",
    "    a1.set_xlim(-2.1, 2.1)\n",
    "    a1.set_ylim(-2.1, 2.1)\n",
    "    a1.set_zlim(-0.1, 1.1);"
   ]
  },
  {
   "cell_type": "markdown",
   "metadata": {},
   "source": [
    "En este caso utilizo los rangos de valores `(0, τ)` ya que es toda la vuelta completa."
   ]
  },
  {
   "cell_type": "code",
   "execution_count": null,
   "metadata": {
    "collapsed": false
   },
   "outputs": [],
   "source": [
    "interact(robot, q1=(0, τ), q2=(0, τ))"
   ]
  },
  {
   "cell_type": "markdown",
   "metadata": {},
   "source": [
    "# Ejercicio"
   ]
  },
  {
   "cell_type": "markdown",
   "metadata": {},
   "source": [
    "1. Implemente el código para las funciones que devuelvan matrices de rotación y traslación necesarias para implementar la cinemática directa de un manipulador Stanford.\n",
    "2. Implemente una cadena cinemática que describa las transformaciones hechas en cada articulación de un manipulador Stanford.\n",
    "3. Cree una función que tome como argumentos los valores de posición (angular o lineal) de los grados de libertad de un manipulador Stanford, calcule la cinemática directa y grafique en tres dimensiones un esquema de los eslabones del manipulador."
   ]
  }
 ],
 "metadata": {
  "kernelspec": {
   "display_name": "Python 3",
   "language": "python",
   "name": "python3"
  },
  "language_info": {
   "codemirror_mode": {
    "name": "ipython",
    "version": 3
   },
   "file_extension": ".py",
   "mimetype": "text/x-python",
   "name": "python",
   "nbconvert_exporter": "python",
   "pygments_lexer": "ipython3",
   "version": "3.4.4"
  }
 },
 "nbformat": 4,
 "nbformat_minor": 0
}
