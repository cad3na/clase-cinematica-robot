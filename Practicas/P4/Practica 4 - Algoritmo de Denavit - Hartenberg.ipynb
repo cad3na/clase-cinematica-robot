{
 "cells": [
  {
   "cell_type": "markdown",
   "metadata": {},
   "source": [
    "# Algoritmo de Denavit - Hartenberg"
   ]
  },
  {
   "cell_type": "markdown",
   "metadata": {},
   "source": [
    "## Calculo simbólico"
   ]
  },
  {
   "cell_type": "markdown",
   "metadata": {},
   "source": [
    "Dentro del notebook de Jupyter tenemos la ventaja de utilizar diferentes tipos de elementos desplegables en un página web, como imagenes, interfaces graficas, etc. En esta práctica utilizaremos un nuevo tipo de elementos que nos ayudan a desplegar matemáticas de una manera estetica y funcional.\n",
    "\n",
    "Como algunos ya se habran dado cuenta, dentro de un notebook tenemos diferentes tipos de celdas, las que aparecen por default cuando creas una nueva celda son celdas de código, pero si queremos una celda de comentarios, tan solo tenemos que cambiarla en el menu de arriba por el tipo `Markdown`.\n",
    "\n",
    "![](./imagenes/tipo_celda.png)"
   ]
  },
  {
   "cell_type": "markdown",
   "metadata": {},
   "source": [
    "En este tipo de celda podemos incluso añadir imagenes como la que esta arriba (si quieres ver como se hace, tan solo tienes que hacer doble clic sobre la celda para desplegar el código utilizado).\n",
    "\n",
    "En especifico nos interesa poder escribir ecuaciones matemáticas como $x_1 = 10$, o bien \n",
    "\n",
    "$$ E = m c^2 $$\n",
    "\n",
    "> Nota que dependiendo del numero de `$`, la ecuación aparecerá en linea junto con el texto, o aparte y centrado."
   ]
  },
  {
   "cell_type": "markdown",
   "metadata": {},
   "source": [
    "Pero hasta el momento no hemos hecho ningun cálculo con estas ecuaciones, tan solo las hemos escrito, y a pesar de que se ven bien, no podemos manipularlas de ninguna manera.\n",
    "\n",
    "\n",
    "Para esto nos ayudará la librería `sympy`, la cual esta diseñada especificamente para poder hacer cálculos simbólicos. Para empezar tenemos que importar algunas funciones de la librería."
   ]
  },
  {
   "cell_type": "code",
   "execution_count": 1,
   "metadata": {
    "collapsed": true
   },
   "outputs": [],
   "source": [
    "# Esta libreria tiene las funciones principales que utilizaremos\n",
    "from sympy import var, Matrix, Function, sin, cos\n",
    "# Esta libreria contiene una funcion que la va a dar un formato \"bonito\" a nuestras ecuaciones\n",
    "from sympy.physics.mechanics import mechanics_printing\n",
    "mechanics_printing()"
   ]
  },
  {
   "cell_type": "markdown",
   "metadata": {},
   "source": [
    "Una vez importadas las funciones de nuestra librería, podemos empezar declarando variables (o constantes) conocidas para nosotros."
   ]
  },
  {
   "cell_type": "code",
   "execution_count": 4,
   "metadata": {
    "collapsed": false
   },
   "outputs": [
    {
     "data": {
      "image/png": "[encoded data removed]",
      "text/latex": [
       "$$\\left ( t, \\quad q_{1}, \\quad q_{2}, \\quad q_{3}\\right )$$"
      ],
      "text/plain": [
       "(t, q₁, q₂, q₃)"
      ]
     },
     "execution_count": 4,
     "metadata": {},
     "output_type": "execute_result"
    }
   ],
   "source": [
    "var(\"t q1 q2 q3\")"
   ]
  },
  {
   "cell_type": "code",
   "execution_count": 3,
   "metadata": {
    "collapsed": false
   },
   "outputs": [
    {
     "data": {
      "image/png": "[encoded data removed]",
      "text/latex": [
       "$$\\left ( l_{1}, \\quad l_{2}, \\quad l_{3}\\right )$$"
      ],
      "text/plain": [
       "(l₁, l₂, l₃)"
      ]
     },
     "execution_count": 3,
     "metadata": {},
     "output_type": "execute_result"
    }
   ],
   "source": [
    "var(\"l1:4\")"
   ]
  },
  {
   "cell_type": "markdown",
   "metadata": {},
   "source": [
    "> Nota que cualquiera de estas dos notaciones es valida para importar variables de sympy\n",
    "\n",
    "Si ahora creamos una matriz con nuestros datos es posible utilizar las operaciones de matrices conocidas por nosotros, por ejemplo vamos hacer una transformación de movimientos rígidos, definida por la siguiente ecuación:\n",
    "\n",
    "$$ p_1^0 = R_1 p_0^0 + d_1^0 $$ "
   ]
  },
  {
   "cell_type": "code",
   "execution_count": 7,
   "metadata": {
    "collapsed": true
   },
   "outputs": [],
   "source": [
    "# Defino el punto origen, la rotación y traslación aplicados\n",
    "p0 = Matrix([[2],\n",
    "             [3],\n",
    "             [0]])\n",
    "R1 = Matrix([[cos(q1), -sin(q1), 0],\n",
    "             [sin(q1), cos(q1), 0],\n",
    "             [0, 0, 1]])\n",
    "d1 = Matrix([[l1],\n",
    "             [0],\n",
    "             [0]])"
   ]
  },
  {
   "cell_type": "code",
   "execution_count": 8,
   "metadata": {
    "collapsed": false
   },
   "outputs": [
    {
     "data": {
      "image/png": "[encoded data removed]",
      "text/latex": [
       "$$\\left[\\begin{matrix}l_{1} - 3 \\operatorname{sin}\\left(q_{1}\\right) + 2 \\operatorname{cos}\\left(q_{1}\\right)\\\\2 \\operatorname{sin}\\left(q_{1}\\right) + 3 \\operatorname{cos}\\left(q_{1}\\right)\\\\0\\end{matrix}\\right]$$"
      ],
      "text/plain": [
       "⎡l₁ - 3⋅sin(q₁) + 2⋅cos(q₁)⎤\n",
       "⎢                          ⎥\n",
       "⎢  2⋅sin(q₁) + 3⋅cos(q₁)   ⎥\n",
       "⎢                          ⎥\n",
       "⎣            0             ⎦"
      ]
     },
     "execution_count": 8,
     "metadata": {},
     "output_type": "execute_result"
    }
   ],
   "source": [
    "p1 = R1*p0 + d1\n",
    "p1"
   ]
  },
  {
   "cell_type": "markdown",
   "metadata": {},
   "source": [
    "## Convención Denavit - Hartenberg"
   ]
  },
  {
   "cell_type": "markdown",
   "metadata": {},
   "source": [
    "Sabemos que la conveción Denavit - Hartenberg es una manera de obtener las transformaciones homogéneas necesarias para cada eslabon de un manipulador, sin embargo las multiplicaciones de matrices resultantes de este algorimto por lo general consumen demasiado tiempo, por lo que en esta práctica aprenderemos a definir una función que calcule cada matriz de transformación y poder multiplicarlas con la computadora.\n",
    "\n",
    "Lo primero que necesitamos es la matriz general del algoritmo Denavit - Hartenberg:\n",
    "\n",
    "$$\n",
    "A_i = \n",
    "\\begin{pmatrix}\n",
    "    c_{\\theta_i} & -s_{\\theta_i} c_{\\alpha_i} & s_{\\theta_i} s_{\\alpha_i} & a_i c_{\\theta_i} \\\\\n",
    "    s_{\\theta_i} & c_{\\theta_i} c_{\\alpha_i} & -c_{\\theta_i} s_{\\alpha_i} & a_i s_{\\theta_i} \\\\\n",
    "    0 & s_{\\alpha_i} & c_{\\alpha_i} & d_i \\\\\n",
    "    0 & 0 & 0 & 1\n",
    "\\end{pmatrix}\n",
    "$$\n",
    "\n",
    "Si escribimos esta matriz dando valores aleatorios a $\\theta$, $\\alpha$, $d$ y $a$, tendremos:"
   ]
  },
  {
   "cell_type": "code",
   "execution_count": 9,
   "metadata": {
    "collapsed": true
   },
   "outputs": [],
   "source": [
    "a = 1.2\n",
    "d = 0\n",
    "α = 90\n",
    "θ = q1\n",
    "\n",
    "A1 = Matrix([[cos(θ), -sin(θ)*cos(α), sin(θ)*sin(α), a*cos(θ)],\n",
    "             [sin(θ), cos(θ)*cos(α), -cos(θ)*sin(α), a*sin(θ)],\n",
    "             [0, sin(α), cos(α), d],\n",
    "             [0, 0, 0, 1]])"
   ]
  },
  {
   "cell_type": "code",
   "execution_count": 10,
   "metadata": {
    "collapsed": false
   },
   "outputs": [
    {
     "data": {
      "image/png": "[encoded data removed]",
      "text/latex": [
       "$$\\left[\\begin{matrix}\\operatorname{cos}\\left(q_{1}\\right) & - \\operatorname{sin}\\left(q_{1}\\right) \\operatorname{cos}\\left(90\\right) & \\operatorname{sin}\\left(90\\right) \\operatorname{sin}\\left(q_{1}\\right) & 1.2 \\operatorname{cos}\\left(q_{1}\\right)\\\\\\operatorname{sin}\\left(q_{1}\\right) & \\operatorname{cos}\\left(90\\right) \\operatorname{cos}\\left(q_{1}\\right) & - \\operatorname{sin}\\left(90\\right) \\operatorname{cos}\\left(q_{1}\\right) & 1.2 \\operatorname{sin}\\left(q_{1}\\right)\\\\0 & \\operatorname{sin}\\left(90\\right) & \\operatorname{cos}\\left(90\\right) & 0\\\\0 & 0 & 0 & 1\\end{matrix}\\right]$$"
      ],
      "text/plain": [
       "⎡cos(q₁)  -sin(q₁)⋅cos(90)  sin(90)⋅sin(q₁)   1.2⋅cos(q₁)⎤\n",
       "⎢                                                        ⎥\n",
       "⎢sin(q₁)  cos(90)⋅cos(q₁)   -sin(90)⋅cos(q₁)  1.2⋅sin(q₁)⎥\n",
       "⎢                                                        ⎥\n",
       "⎢   0         sin(90)           cos(90)            0     ⎥\n",
       "⎢                                                        ⎥\n",
       "⎣   0            0                 0               1     ⎦"
      ]
     },
     "execution_count": 10,
     "metadata": {},
     "output_type": "execute_result"
    }
   ],
   "source": [
    "A1"
   ]
  },
  {
   "cell_type": "markdown",
   "metadata": {},
   "source": [
    "Dando otros valores aleatorios a la misma matriz tendremos:"
   ]
  },
  {
   "cell_type": "code",
   "execution_count": 11,
   "metadata": {
    "collapsed": true
   },
   "outputs": [],
   "source": [
    "a = 0.8\n",
    "d = 0\n",
    "α = 0\n",
    "θ = q2\n",
    "\n",
    "A2 = Matrix([[cos(θ), -sin(θ)*cos(α), sin(θ)*sin(α), a*cos(θ)],\n",
    "             [sin(θ), cos(θ)*cos(α), -cos(θ)*sin(α), a*sin(θ)],\n",
    "             [0, sin(α), cos(α), d],\n",
    "             [0, 0, 0, 1]])"
   ]
  },
  {
   "cell_type": "code",
   "execution_count": 12,
   "metadata": {
    "collapsed": false
   },
   "outputs": [
    {
     "data": {
      "image/png": "[encoded data removed]",
      "text/latex": [
       "$$\\left[\\begin{matrix}\\operatorname{cos}\\left(q_{2}\\right) & - \\operatorname{sin}\\left(q_{2}\\right) & 0 & 0.8 \\operatorname{cos}\\left(q_{2}\\right)\\\\\\operatorname{sin}\\left(q_{2}\\right) & \\operatorname{cos}\\left(q_{2}\\right) & 0 & 0.8 \\operatorname{sin}\\left(q_{2}\\right)\\\\0 & 0 & 1 & 0\\\\0 & 0 & 0 & 1\\end{matrix}\\right]$$"
      ],
      "text/plain": [
       "⎡cos(q₂)  -sin(q₂)  0  0.8⋅cos(q₂)⎤\n",
       "⎢                                 ⎥\n",
       "⎢sin(q₂)  cos(q₂)   0  0.8⋅sin(q₂)⎥\n",
       "⎢                                 ⎥\n",
       "⎢   0        0      1       0     ⎥\n",
       "⎢                                 ⎥\n",
       "⎣   0        0      0       1     ⎦"
      ]
     },
     "execution_count": 12,
     "metadata": {},
     "output_type": "execute_result"
    }
   ],
   "source": [
    "A2"
   ]
  },
  {
   "cell_type": "markdown",
   "metadata": {},
   "source": [
    "Y de la misma manera que en cualquier motor de algebra, si queremos multiplicar, tan solo tenemos que hacerlo:"
   ]
  },
  {
   "cell_type": "code",
   "execution_count": 13,
   "metadata": {
    "collapsed": false
   },
   "outputs": [
    {
     "data": {
      "image/png": "[encoded data removed]",
      "text/latex": [
       "$$\\left[\\begin{matrix}- \\operatorname{sin}\\left(q_{1}\\right) \\operatorname{sin}\\left(q_{2}\\right) \\operatorname{cos}\\left(90\\right) + \\operatorname{cos}\\left(q_{1}\\right) \\operatorname{cos}\\left(q_{2}\\right) & - \\operatorname{sin}\\left(q_{1}\\right) \\operatorname{cos}\\left(90\\right) \\operatorname{cos}\\left(q_{2}\\right) - \\operatorname{sin}\\left(q_{2}\\right) \\operatorname{cos}\\left(q_{1}\\right) & \\operatorname{sin}\\left(90\\right) \\operatorname{sin}\\left(q_{1}\\right) & - 0.8 \\operatorname{sin}\\left(q_{1}\\right) \\operatorname{sin}\\left(q_{2}\\right) \\operatorname{cos}\\left(90\\right) + 0.8 \\operatorname{cos}\\left(q_{1}\\right) \\operatorname{cos}\\left(q_{2}\\right) + 1.2 \\operatorname{cos}\\left(q_{1}\\right)\\\\\\operatorname{sin}\\left(q_{1}\\right) \\operatorname{cos}\\left(q_{2}\\right) + \\operatorname{sin}\\left(q_{2}\\right) \\operatorname{cos}\\left(90\\right) \\operatorname{cos}\\left(q_{1}\\right) & - \\operatorname{sin}\\left(q_{1}\\right) \\operatorname{sin}\\left(q_{2}\\right) + \\operatorname{cos}\\left(90\\right) \\operatorname{cos}\\left(q_{1}\\right) \\operatorname{cos}\\left(q_{2}\\right) & - \\operatorname{sin}\\left(90\\right) \\operatorname{cos}\\left(q_{1}\\right) & 0.8 \\operatorname{sin}\\left(q_{1}\\right) \\operatorname{cos}\\left(q_{2}\\right) + 1.2 \\operatorname{sin}\\left(q_{1}\\right) + 0.8 \\operatorname{sin}\\left(q_{2}\\right) \\operatorname{cos}\\left(90\\right) \\operatorname{cos}\\left(q_{1}\\right)\\\\\\operatorname{sin}\\left(90\\right) \\operatorname{sin}\\left(q_{2}\\right) & \\operatorname{sin}\\left(90\\right) \\operatorname{cos}\\left(q_{2}\\right) & \\operatorname{cos}\\left(90\\right) & 0.8 \\operatorname{sin}\\left(90\\right) \\operatorname{sin}\\left(q_{2}\\right)\\\\0 & 0 & 0 & 1\\end{matrix}\\right]$$"
      ],
      "text/plain": [
       "⎡-sin(q₁)⋅sin(q₂)⋅cos(90) + cos(q₁)⋅cos(q₂)  -sin(q₁)⋅cos(90)⋅cos(q₂) - sin(q₂\n",
       "⎢                                                                             \n",
       "⎢sin(q₁)⋅cos(q₂) + sin(q₂)⋅cos(90)⋅cos(q₁)   -sin(q₁)⋅sin(q₂) + cos(90)⋅cos(q₁\n",
       "⎢                                                                             \n",
       "⎢             sin(90)⋅sin(q₂)                             sin(90)⋅cos(q₂)     \n",
       "⎢                                                                             \n",
       "⎣                    0                                           0            \n",
       "\n",
       ")⋅cos(q₁)  sin(90)⋅sin(q₁)   -- -0.8⋅sin(q₁)⋅sin(q₂)⋅cos(90) + 0.8⋅cos(q₁)⋅cos\n",
       "                                                                              \n",
       ")⋅cos(q₂)  -sin(90)⋅cos(q₁)    0.8⋅sin(q₁)⋅cos(q₂) + 1.2⋅sin(q₁) + 0.8⋅sin(q₂)\n",
       "                                                                              \n",
       "               cos(90)                               0.8⋅sin(90)⋅sin(q₂)      \n",
       "                                                                              \n",
       "                  0                                           1               \n",
       "\n",
       "(q₂) + 1.2⋅cos(q₁)⎤\n",
       "                  ⎥\n",
       "⋅cos(90)⋅cos(q₁)  ⎥\n",
       "                  ⎥\n",
       "                  ⎥\n",
       "                  ⎥\n",
       "                  ⎦"
      ]
     },
     "execution_count": 13,
     "metadata": {},
     "output_type": "execute_result"
    }
   ],
   "source": [
    "A1*A2"
   ]
  },
  {
   "cell_type": "markdown",
   "metadata": {},
   "source": [
    "# Ejercicio"
   ]
  },
  {
   "cell_type": "markdown",
   "metadata": {},
   "source": [
    "1. Por medio de la convención de Denavit - Hartenberg, obtenga los parametros de el manipulador del laboratorio de manufactura.\n",
    "2. Cree una función que tome como argumentos los parametros de Denavit - Hartenberg y devuelva la matriz de transformación homogénea asociada al eslabon.\n",
    "3. Cree una función que dados los angulos del manipulador devuelva la transformación total del manipulador (ayudese de la función creada en el segundo punto).\n",
    "4. Cree una función que dados los angulos del manipulador, grafique las posiciones de los eslabones del manipulador del primer punto (ayudese de la función creada en el segundo punto)."
   ]
  }
 ],
 "metadata": {
  "kernelspec": {
   "display_name": "Python 3",
   "language": "python",
   "name": "python3"
  },
  "language_info": {
   "codemirror_mode": {
    "name": "ipython",
    "version": 3
   },
   "file_extension": ".py",
   "mimetype": "text/x-python",
   "name": "python",
   "nbconvert_exporter": "python",
   "pygments_lexer": "ipython3",
   "version": "3.4.4"
  }
 },
 "nbformat": 4,
 "nbformat_minor": 0
}
