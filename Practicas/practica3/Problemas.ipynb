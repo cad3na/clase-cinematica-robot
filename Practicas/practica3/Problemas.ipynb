{
 "cells": [
  {
   "cell_type": "markdown",
   "metadata": {},
   "source": [
    "# Problemas"
   ]
  },
  {
   "cell_type": "markdown",
   "metadata": {},
   "source": [
    "---\n",
    "Implemente el código para las funciones que devuelvan matrices de rotación y traslación necesarias para implementar la cinemática directa de un manipulador Stanford."
   ]
  },
  {
   "cell_type": "code",
   "execution_count": null,
   "metadata": {
    "deletable": false,
    "nbgrader": {
     "checksum": "6183347e72c82cc068881691fbc7d50e",
     "grade": false,
     "grade_id": "cell-a454ef709499bb24",
     "locked": false,
     "schema_version": 1,
     "solution": true
    }
   },
   "outputs": [],
   "source": [
    "def rotacion_x(θ):\n",
    "    # YOUR CODE HERE\n",
    "    raise NotImplementedError()\n",
    "    \n",
    "def rotacion_y(θ):\n",
    "    # YOUR CODE HERE\n",
    "    raise NotImplementedError()\n",
    "\n",
    "def rotacion_z(θ):\n",
    "    # YOUR CODE HERE\n",
    "    raise NotImplementedError()\n",
    "\n",
    "def traslacion_x(x):\n",
    "    # YOUR CODE HERE\n",
    "    raise NotImplementedError()\n",
    "\n",
    "def traslacion_y(y):\n",
    "    # YOUR CODE HERE\n",
    "    raise NotImplementedError()\n",
    "    \n",
    "def traslacion_z(z):\n",
    "    # YOUR CODE HERE\n",
    "    raise NotImplementedError()"
   ]
  },
  {
   "cell_type": "code",
   "execution_count": null,
   "metadata": {
    "deletable": false,
    "editable": false,
    "nbgrader": {
     "checksum": "3bfe87124fdf79a68d24e9f7844e2bde",
     "grade": true,
     "grade_id": "cell-f7e193e853d79e64",
     "locked": true,
     "points": 1,
     "schema_version": 1,
     "solution": false
    }
   },
   "outputs": [],
   "source": [
    "from numpy.testing import assert_allclose\n",
    "from numpy import eye, pi, matrix, array\n",
    "assert_allclose(rotacion_x(0), eye(4))\n",
    "assert_allclose(rotacion_x(pi), matrix([[1, 0, 0, 0], [0, -1, 0, 0], [0, 0, -1, 0], [0, 0, 0, 1]]), rtol=1e-05, atol=1e-05)\n",
    "assert_allclose(rotacion_y(0), eye(4))\n",
    "assert_allclose(rotacion_y(pi), matrix([[-1, 0, 0, 0], [0, 1, 0, 0], [0, 0, -1, 0], [0, 0, 0, 1]]), rtol=1e-05, atol=1e-05)\n",
    "assert_allclose(rotacion_z(0), eye(4))\n",
    "assert_allclose(rotacion_z(pi), matrix([[-1, 0, 0, 0], [0, -1, 0, 0], [0, 0, 1, 0], [0, 0, 0, 1]]), rtol=1e-05, atol=1e-05)\n",
    "assert_allclose(traslacion_x(0), eye(4), rtol=1e-05, atol=1e-05)\n",
    "assert_allclose(traslacion_x(1), matrix([[1, 0, 0, 1], [0, 1, 0, 0], [0, 0, 1, 0], [0, 0, 0, 1]]), rtol=1e-05, atol=1e-05)\n",
    "assert_allclose(traslacion_y(0), eye(4), rtol=1e-05, atol=1e-05)\n",
    "assert_allclose(traslacion_y(1), matrix([[1, 0, 0, 0], [0, 1, 0, 1], [0, 0, 1, 0], [0, 0, 0, 1]]), rtol=1e-05, atol=1e-05)\n",
    "assert_allclose(traslacion_z(0), eye(4), rtol=1e-05, atol=1e-05)\n",
    "assert_allclose(traslacion_z(1), matrix([[1, 0, 0, 0], [0, 1, 0, 0], [0, 0, 1, 1], [0, 0, 0, 1]]), rtol=1e-05, atol=1e-05)"
   ]
  },
  {
   "cell_type": "markdown",
   "metadata": {},
   "source": [
    "---\n",
    "Implemente una función que devuelva las matrices de transformación homogeneas, que describen la cinemática directa de un manipulador Stanford."
   ]
  },
  {
   "cell_type": "code",
   "execution_count": null,
   "metadata": {
    "deletable": false,
    "nbgrader": {
     "checksum": "b36a6cbbf6fbf6f5171665a240e42c61",
     "grade": false,
     "grade_id": "cell-828354d4c89a419a",
     "locked": false,
     "schema_version": 1,
     "solution": true
    }
   },
   "outputs": [],
   "source": [
    "def cinematica_stanford(q1, q2, q3):\n",
    "    # Tomamos en cuenta que la longitudes son 1\n",
    "    l1, l2 = 1, 1\n",
    "    # YOUR CODE HERE\n",
    "    raise NotImplementedError()\n",
    "    return A1, A2, A3"
   ]
  },
  {
   "cell_type": "code",
   "execution_count": null,
   "metadata": {},
   "outputs": [],
   "source": [
    "cinematica_stanford(0,0,0)"
   ]
  },
  {
   "cell_type": "code",
   "execution_count": null,
   "metadata": {
    "deletable": false,
    "editable": false,
    "nbgrader": {
     "checksum": "c3a886a068e8d396eec11cc0f8c2b948",
     "grade": true,
     "grade_id": "cell-54080d520d7bdca1",
     "locked": true,
     "points": 3,
     "schema_version": 1,
     "solution": false
    }
   },
   "outputs": [],
   "source": [
    "from numpy.testing import assert_allclose\n",
    "from numpy import eye, pi, matrix, array\n",
    "A1, A2, A3 = cinematica_stanford(0, 0, 0)\n",
    "assert_allclose(A1, matrix([[1,0,0,0], [0,1,0,0], [0,0,1,1], [0,0,0,1]]), rtol=1e-05, atol=1e-5)\n",
    "assert_allclose(A2, eye(4), rtol=1e-05, atol=1e-5)\n",
    "assert_allclose(A3, matrix([[1,0,0,0], [0,1,0,1], [0,0,1,0], [0,0,0,1]]), rtol=1e-05, atol=1e-5)"
   ]
  },
  {
   "cell_type": "markdown",
   "metadata": {},
   "source": [
    "---\n",
    "Cree una función que tome como argumentos los valores de posición (angular o lineal) de los grados de libertad de un manipulador Stanford, calcule la cinemática directa y grafique en tres dimensiones un esquema de los eslabones del manipulador."
   ]
  },
  {
   "cell_type": "code",
   "execution_count": null,
   "metadata": {
    "deletable": false,
    "nbgrader": {
     "checksum": "b3dbe654e72d816ddd16f0c3c8a716d7",
     "grade": false,
     "grade_id": "cell-ac99637b933b8361",
     "locked": false,
     "schema_version": 1,
     "solution": true
    }
   },
   "outputs": [],
   "source": [
    "def grafica_stanford(q1, q2, q3):\n",
    "    from numpy import matrix\n",
    "    # YOUR CODE HERE\n",
    "    raise NotImplementedError()\n",
    "    fig = figure(figsize=(8, 8))\n",
    "    ax = fig.add_subplot(111, projection='3d')\n",
    "\n",
    "    ax.plot(xs, ys, zs, \"-o\")\n",
    "    \n",
    "    ax.set_xlim(-1.1, 1.1)\n",
    "    ax.set_ylim(-1.1, 1.1)\n",
    "    ax.set_zlim(-0.1, 2.1)\n",
    "    return ax"
   ]
  },
  {
   "cell_type": "code",
   "execution_count": null,
   "metadata": {
    "deletable": false,
    "editable": false,
    "nbgrader": {
     "checksum": "feb9833f21e907c1dc4534494f217c54",
     "grade": true,
     "grade_id": "cell-6cef9847505a66b2",
     "locked": true,
     "points": 2,
     "schema_version": 1,
     "solution": false
    }
   },
   "outputs": [],
   "source": [
    "%matplotlib inline\n",
    "from matplotlib.pyplot import figure, plot, style\n",
    "from mpl_toolkits.mplot3d import Axes3D\n",
    "style.use(\"ggplot\")\n",
    "from numpy.testing import assert_allclose\n",
    "ax = grafica_stanford(0,0.5,0.5)\n",
    "ls = ax.get_lines()\n",
    "assert_allclose(ls[0].get_xdata(), array([0, 0, 0,  0.0290876490]), rtol=1e-01, atol=1e-01)\n",
    "assert_allclose(ls[0].get_ydata(), array([-0.0384900179, 0, 0,  1.316]), rtol=1e-01, atol=1e-01)"
   ]
  },
  {
   "cell_type": "markdown",
   "metadata": {},
   "source": [
    "---\n",
    "Utilice la función ```interact``` para controlar el movimiento de un manipulador Stanford y posicione al manipulador aproximadamente en $q_1 = 30^o$, $q_2 = 20^o$ y $q_3 = 0.2m$"
   ]
  },
  {
   "cell_type": "code",
   "execution_count": null,
   "metadata": {
    "deletable": false,
    "nbgrader": {
     "checksum": "1195ae3f42f546e48ad667f4a6e00c17",
     "grade": false,
     "grade_id": "cell-f6b9ae944f1f3d8e",
     "locked": false,
     "schema_version": 1,
     "solution": true
    }
   },
   "outputs": [],
   "source": [
    "from ipywidgets import interact\n",
    "from numpy import pi\n",
    "τ = 2*pi\n",
    "# YOUR CODE HERE\n",
    "raise NotImplementedError()"
   ]
  },
  {
   "cell_type": "code",
   "execution_count": null,
   "metadata": {
    "deletable": false,
    "editable": false,
    "nbgrader": {
     "checksum": "4e471e91f5942aa38f81ea88bb609f7e",
     "grade": true,
     "grade_id": "cell-ef44fd375da5807a",
     "locked": true,
     "points": 2,
     "schema_version": 1,
     "solution": false
    }
   },
   "outputs": [],
   "source": [
    "from nose.tools import assert_almost_equal\n",
    "from numpy import pi\n",
    "τ = 2*pi"
   ]
  }
 ],
 "metadata": {
  "css": [
   ""
  ],
  "kernelspec": {
   "display_name": "Python 3",
   "language": "python",
   "name": "python3"
  },
  "language_info": {
   "codemirror_mode": {
    "name": "ipython",
    "version": 3
   },
   "file_extension": ".py",
   "mimetype": "text/x-python",
   "name": "python",
   "nbconvert_exporter": "python",
   "pygments_lexer": "ipython3",
   "version": "3.6.4"
  }
 },
 "nbformat": 4,
 "nbformat_minor": 1
}
