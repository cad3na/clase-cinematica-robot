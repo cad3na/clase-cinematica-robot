{
 "cells": [
  {
   "cell_type": "markdown",
   "metadata": {},
   "source": [
    "# Problemas"
   ]
  },
  {
   "cell_type": "markdown",
   "metadata": {},
   "source": [
    "---\n",
    "Implemente el código para las funciones que devuelvan matrices de rotación y traslación necesarias para implementar la cinemática directa de un manipulador Stanford."
   ]
  },
  {
   "cell_type": "code",
   "execution_count": null,
   "metadata": {
    "nbgrader": {
     "grade": false,
     "grade_id": "cell-a454ef709499bb24",
     "locked": false,
     "schema_version": 1,
     "solution": true
    }
   },
   "outputs": [],
   "source": [
    "def rotacion_x(θ):\n",
    "    ### BEGIN SOLUTION HERE\n",
    "    from numpy import matrix, sin, cos\n",
    "    A = matrix([[1, 0, 0, 0],\n",
    "                [0, cos(θ), -sin(θ), 0],\n",
    "                [0, sin(θ), cos(θ), 0],\n",
    "                [0, 0, 0, 1]])\n",
    "    return A\n",
    "    ### END SOLUTION HERE\n",
    "    \n",
    "def rotacion_y(θ):\n",
    "    ### BEGIN SOLUTION HERE\n",
    "    from numpy import matrix, sin, cos\n",
    "    A = matrix([[cos(θ), 0, sin(θ), 0],\n",
    "                [0, 1, 0, 0],\n",
    "                [-sin(θ), 0, cos(θ), 0],\n",
    "                [0, 0, 0, 1]])\n",
    "    return A\n",
    "    ### END SOLUTION HERE\n",
    "\n",
    "def rotacion_z(θ):\n",
    "    ### BEGIN SOLUTION HERE\n",
    "    from numpy import matrix, sin, cos\n",
    "    A = matrix([[cos(θ), -sin(θ), 0, 0],\n",
    "                [sin(θ), cos(θ), 0, 0],\n",
    "                [0, 0, 1, 0],\n",
    "                [0, 0, 0, 1]])\n",
    "    return A\n",
    "    ### END SOLUTION HERE\n",
    "\n",
    "def traslacion_x(x):\n",
    "    ### BEGIN SOLUTION HERE\n",
    "    from numpy import matrix, sin, cos\n",
    "    A = matrix([[1, 0, 0, x],\n",
    "                [0, 1, 0, 0],\n",
    "                [0, 0, 1, 0],\n",
    "                [0, 0, 0, 1]])\n",
    "    return A\n",
    "    ### END SOLUTION HERE\n",
    "\n",
    "def traslacion_y(y):\n",
    "    ### BEGIN SOLUTION HERE\n",
    "    from numpy import matrix, sin, cos\n",
    "    A = matrix([[1, 0, 0, 0],\n",
    "                [0, 1, 0, y],\n",
    "                [0, 0, 1, 0],\n",
    "                [0, 0, 0, 1]])\n",
    "    return A\n",
    "    ### END SOLUTION HERE\n",
    "    \n",
    "def traslacion_z(z):\n",
    "    ### BEGIN SOLUTION HERE\n",
    "    from numpy import matrix, sin, cos\n",
    "    A = matrix([[1, 0, 0, 0],\n",
    "                [0, 1, 0, 0],\n",
    "                [0, 0, 1, z],\n",
    "                [0, 0, 0, 1]])\n",
    "    return A\n",
    "    ### END SOLUTION HERE"
   ]
  },
  {
   "cell_type": "code",
   "execution_count": null,
   "metadata": {
    "nbgrader": {
     "grade": true,
     "grade_id": "cell-f7e193e853d79e64",
     "locked": true,
     "points": 1,
     "schema_version": 1,
     "solution": false
    }
   },
   "outputs": [],
   "source": [
    "from numpy.testing import assert_allclose\n",
    "from numpy import eye, pi, matrix, array\n",
    "assert_allclose(rotacion_x(0), eye(4))\n",
    "assert_allclose(rotacion_x(pi), matrix([[1, 0, 0, 0], [0, -1, 0, 0], [0, 0, -1, 0], [0, 0, 0, 1]]), rtol=1e-05, atol=1e-05)\n",
    "assert_allclose(rotacion_y(0), eye(4))\n",
    "assert_allclose(rotacion_y(pi), matrix([[-1, 0, 0, 0], [0, 1, 0, 0], [0, 0, -1, 0], [0, 0, 0, 1]]), rtol=1e-05, atol=1e-05)\n",
    "assert_allclose(rotacion_z(0), eye(4))\n",
    "assert_allclose(rotacion_z(pi), matrix([[-1, 0, 0, 0], [0, -1, 0, 0], [0, 0, 1, 0], [0, 0, 0, 1]]), rtol=1e-05, atol=1e-05)\n",
    "assert_allclose(traslacion_x(0), eye(4), rtol=1e-05, atol=1e-05)\n",
    "assert_allclose(traslacion_x(1), matrix([[1, 0, 0, 1], [0, 1, 0, 0], [0, 0, 1, 0], [0, 0, 0, 1]]), rtol=1e-05, atol=1e-05)\n",
    "assert_allclose(traslacion_y(0), eye(4), rtol=1e-05, atol=1e-05)\n",
    "assert_allclose(traslacion_y(1), matrix([[1, 0, 0, 0], [0, 1, 0, 1], [0, 0, 1, 0], [0, 0, 0, 1]]), rtol=1e-05, atol=1e-05)\n",
    "assert_allclose(traslacion_z(0), eye(4), rtol=1e-05, atol=1e-05)\n",
    "assert_allclose(traslacion_z(1), matrix([[1, 0, 0, 0], [0, 1, 0, 0], [0, 0, 1, 1], [0, 0, 0, 1]]), rtol=1e-05, atol=1e-05)\n",
    "### BEGIN HIDDEN TESTS\n",
    "def rotacion_prueba_x(θ):\n",
    "    from numpy import matrix, sin, cos\n",
    "    A = matrix([[1, 0, 0, 0],\n",
    "                [0, cos(θ), -sin(θ), 0],\n",
    "                [0, sin(θ), cos(θ), 0],\n",
    "                [0, 0, 0, 1]])\n",
    "    return A\n",
    "    \n",
    "def rotacion_prueba_y(θ):\n",
    "    from numpy import matrix, sin, cos\n",
    "    A = matrix([[cos(θ), 0, sin(θ), 0],\n",
    "                [0, 1, 0, 0],\n",
    "                [-sin(θ), 0, cos(θ), 0],\n",
    "                [0, 0, 0, 1]])\n",
    "    return A\n",
    "\n",
    "def rotacion_prueba_z(θ):\n",
    "    from numpy import matrix, sin, cos\n",
    "    A = matrix([[cos(θ), -sin(θ), 0, 0],\n",
    "                [sin(θ), cos(θ), 0, 0],\n",
    "                [0, 0, 1, 0],\n",
    "                [0, 0, 0, 1]])\n",
    "    return A\n",
    "\n",
    "def traslacion_prueba_x(x):\n",
    "    from numpy import matrix, sin, cos\n",
    "    A = matrix([[1, 0, 0, x],\n",
    "                [0, 1, 0, 0],\n",
    "                [0, 0, 1, 0],\n",
    "                [0, 0, 0, 1]])\n",
    "    return A\n",
    "\n",
    "def traslacion_prueba_y(y):\n",
    "    from numpy import matrix, sin, cos\n",
    "    A = matrix([[1, 0, 0, 0],\n",
    "                [0, 1, 0, y],\n",
    "                [0, 0, 1, 0],\n",
    "                [0, 0, 0, 1]])\n",
    "    return A\n",
    "    \n",
    "def traslacion_prueba_z(z):\n",
    "    from numpy import matrix, sin, cos\n",
    "    A = matrix([[1, 0, 0, 0],\n",
    "                [0, 1, 0, 0],\n",
    "                [0, 0, 1, z],\n",
    "                [0, 0, 0, 1]])\n",
    "    return A\n",
    "\n",
    "assert_allclose(rotacion_x(pi/6), rotacion_prueba_x(pi/6), rtol=1e-05, atol=1e-5)\n",
    "assert_allclose(rotacion_y(pi/6), rotacion_prueba_y(pi/6), rtol=1e-05, atol=1e-5)\n",
    "assert_allclose(rotacion_z(pi/6), rotacion_prueba_z(pi/6), rtol=1e-05, atol=1e-5)\n",
    "assert_allclose(traslacion_x(-1), traslacion_prueba_x(-1), rtol=1e-05, atol=1e-5)\n",
    "assert_allclose(traslacion_y(-1), traslacion_prueba_y(-1), rtol=1e-05, atol=1e-5)\n",
    "assert_allclose(traslacion_z(-1), traslacion_prueba_z(-1), rtol=1e-05, atol=1e-5)\n",
    "### END HIDDEN TESTS"
   ]
  },
  {
   "cell_type": "markdown",
   "metadata": {},
   "source": [
    "---\n",
    "Implemente una función que devuelva las matrices de transformación homogeneas, que describen la cinemática directa de un manipulador Stanford."
   ]
  },
  {
   "cell_type": "code",
   "execution_count": null,
   "metadata": {
    "nbgrader": {
     "grade": false,
     "grade_id": "cell-828354d4c89a419a",
     "locked": false,
     "schema_version": 1,
     "solution": true
    }
   },
   "outputs": [],
   "source": [
    "def cinematica_stanford(q1, q2, q3):\n",
    "    # Tomamos en cuenta que la longitudes son 1\n",
    "    l1, l2 = 1, 1\n",
    "    ### BEGIN SOLUTION HERE\n",
    "    A1 = rotacion_z(q1)*traslacion_z(l1)\n",
    "    A2 = rotacion_x(q2)\n",
    "    A3 = traslacion_y(l2 + q3)\n",
    "    ### END SOLUTION HERE\n",
    "    return A1, A2, A3"
   ]
  },
  {
   "cell_type": "code",
   "execution_count": null,
   "metadata": {},
   "outputs": [],
   "source": [
    "cinematica_stanford(0,0,0)"
   ]
  },
  {
   "cell_type": "code",
   "execution_count": null,
   "metadata": {
    "nbgrader": {
     "grade": true,
     "grade_id": "cell-54080d520d7bdca1",
     "locked": true,
     "points": 3,
     "schema_version": 1,
     "solution": false
    }
   },
   "outputs": [],
   "source": [
    "from numpy.testing import assert_allclose\n",
    "from numpy import eye, pi, matrix, array\n",
    "A1, A2, A3 = cinematica_stanford(0, 0, 0)\n",
    "assert_allclose(A1, matrix([[1,0,0,0], [0,1,0,0], [0,0,1,1], [0,0,0,1]]), rtol=1e-05, atol=1e-5)\n",
    "assert_allclose(A2, eye(4), rtol=1e-05, atol=1e-5)\n",
    "assert_allclose(A3, matrix([[1,0,0,0], [0,1,0,1], [0,0,1,0], [0,0,0,1]]), rtol=1e-05, atol=1e-5)\n",
    "### BEGIN HIDDEN TESTS\n",
    "def cinematica_stanford_prueba(q1, q2, q3):\n",
    "    # Tomamos en cuenta que la longitudes son 1\n",
    "    l1, l2 = 1, 1\n",
    "    A1 = rotacion_z(q1)*traslacion_z(l1)\n",
    "    A2 = rotacion_x(q2)\n",
    "    A3 = traslacion_y(l2 + q3)\n",
    "    return A1, A2, A3\n",
    "\n",
    "assert_allclose(cinematica_stanford(0,0,0), cinematica_stanford_prueba(0,0,0), rtol=1e-05, atol=1e-5)\n",
    "assert_allclose(cinematica_stanford(0,0,1), cinematica_stanford_prueba(0,0,1), rtol=1e-05, atol=1e-5)\n",
    "assert_allclose(cinematica_stanford(0,1,0), cinematica_stanford_prueba(0,1,0), rtol=1e-05, atol=1e-5)\n",
    "assert_allclose(cinematica_stanford(1,0,0), cinematica_stanford_prueba(1,0,0), rtol=1e-05, atol=1e-5)\n",
    "assert_allclose(cinematica_stanford(1,1,1), cinematica_stanford_prueba(1,1,1), rtol=1e-05, atol=1e-5)\n",
    "### END HIDDEN TESTS"
   ]
  },
  {
   "cell_type": "markdown",
   "metadata": {},
   "source": [
    "---\n",
    "Cree una función que tome como argumentos los valores de posición (angular o lineal) de los grados de libertad de un manipulador Stanford, calcule la cinemática directa y grafique en tres dimensiones un esquema de los eslabones del manipulador."
   ]
  },
  {
   "cell_type": "code",
   "execution_count": null,
   "metadata": {
    "nbgrader": {
     "grade": false,
     "grade_id": "cell-ac99637b933b8361",
     "locked": false,
     "schema_version": 1,
     "solution": true
    }
   },
   "outputs": [],
   "source": [
    "def grafica_stanford(q1, q2, q3):\n",
    "    from numpy import matrix\n",
    "    ### BEGIN SOLUTION HERE\n",
    "    A1, A2, A3 = cinematica_stanford(q1, q2, q3)\n",
    "    \n",
    "    H1 = A1\n",
    "    H2 = A1*A2\n",
    "    H3 = A1*A2*A3\n",
    "    \n",
    "    o0 = matrix([[0],[0],[0],[1]])\n",
    "    o1, o2, o3 = H1*o0, H2*o0, H3*o0\n",
    "    \n",
    "    xs = [o0.item(0), o1.item(0), o2.item(0), o3.item(0)]\n",
    "    ys = [o0.item(1), o1.item(1), o2.item(1), o3.item(1)]\n",
    "    zs = [o0.item(2), o1.item(2), o2.item(2), o3.item(2)]\n",
    "    ### END SOLUTION HERE\n",
    "    fig = figure(figsize=(8, 8))\n",
    "    ax = fig.add_subplot(111, projection='3d')\n",
    "\n",
    "    ax.plot(xs, ys, zs, \"-o\")\n",
    "    \n",
    "    ax.set_xlim(-1.1, 1.1)\n",
    "    ax.set_ylim(-1.1, 1.1)\n",
    "    ax.set_zlim(-0.1, 2.1)\n",
    "    return ax"
   ]
  },
  {
   "cell_type": "code",
   "execution_count": null,
   "metadata": {
    "nbgrader": {
     "grade": true,
     "grade_id": "cell-6cef9847505a66b2",
     "locked": true,
     "points": 2,
     "schema_version": 1,
     "solution": false
    }
   },
   "outputs": [],
   "source": [
    "%matplotlib inline\n",
    "from matplotlib.pyplot import figure, plot, style\n",
    "from mpl_toolkits.mplot3d import Axes3D\n",
    "style.use(\"ggplot\")\n",
    "from numpy.testing import assert_allclose\n",
    "ax = grafica_stanford(0,0.5,0.5)\n",
    "ls = ax.get_lines()\n",
    "assert_allclose(ls[0].get_xdata(), array([0, 0, 0,  0.0290876490]), rtol=1e-01, atol=1e-01)\n",
    "assert_allclose(ls[0].get_ydata(), array([-0.0384900179, 0, 0,  1.316]), rtol=1e-01, atol=1e-01)"
   ]
  },
  {
   "cell_type": "markdown",
   "metadata": {},
   "source": [
    "---\n",
    "Utilice la función ```interact``` para controlar el movimiento de un manipulador Stanford y posicione al manipulador aproximadamente en $q_1 = 30^o$, $q_2 = 20^o$ y $q_3 = 0.2m$"
   ]
  },
  {
   "cell_type": "code",
   "execution_count": null,
   "metadata": {
    "nbgrader": {
     "grade": false,
     "grade_id": "cell-f6b9ae944f1f3d8e",
     "locked": false,
     "schema_version": 1,
     "solution": true
    }
   },
   "outputs": [],
   "source": [
    "from ipywidgets import interact\n",
    "from numpy import pi\n",
    "τ = 2*pi\n",
    "### BEGIN SOLUTION\n",
    "i1 = interact(grafica_stanford, q1=(0, τ), q2=(0, τ), q3=(0, 1.0))\n",
    "### END SOLUTION"
   ]
  },
  {
   "cell_type": "code",
   "execution_count": null,
   "metadata": {
    "nbgrader": {
     "grade": true,
     "grade_id": "cell-ef44fd375da5807a",
     "locked": true,
     "points": 2,
     "schema_version": 1,
     "solution": false
    }
   },
   "outputs": [],
   "source": [
    "from nose.tools import assert_almost_equal\n",
    "from numpy import pi\n",
    "τ = 2*pi\n",
    "### BEGIN HIDDEN TESTS\n",
    "q1_slider = i1.widget.children[0]\n",
    "q2_slider = i1.widget.children[1]\n",
    "q3_slider = i1.widget.children[2]\n",
    "assert_almost_equal(q1_slider.value, τ/12, 1)\n",
    "assert_almost_equal(q2_slider.value, τ/18, 1)\n",
    "assert_almost_equal(q3_slider.value, 0.2, 1)\n",
    "### END HIDDEN TESTS"
   ]
  }
 ],
 "metadata": {
  "celltoolbar": "Create Assignment",
  "css": [
   ""
  ],
  "kernelspec": {
   "display_name": "Python 3",
   "language": "python",
   "name": "python3"
  },
  "language_info": {
   "codemirror_mode": {
    "name": "ipython",
    "version": 3
   },
   "file_extension": ".py",
   "mimetype": "text/x-python",
   "name": "python",
   "nbconvert_exporter": "python",
   "pygments_lexer": "ipython3",
   "version": "3.6.4"
  }
 },
 "nbformat": 4,
 "nbformat_minor": 1
}
