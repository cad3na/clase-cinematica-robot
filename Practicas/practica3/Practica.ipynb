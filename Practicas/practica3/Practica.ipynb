{
 "cells": [
  {
   "cell_type": "markdown",
   "metadata": {},
   "source": [
    "# Visualización de sistemas mecánicos"
   ]
  },
  {
   "cell_type": "markdown",
   "metadata": {},
   "source": [
    "## Interactividad"
   ]
  },
  {
   "cell_type": "markdown",
   "metadata": {},
   "source": [
    "Dentro del ambiente de desarrollo Jupyter, tenemos la oportunidad de ejecutar código en Python entre otros lenguajes; sin embargo se agregan muchas funciones especiales a Jupyter, las cuales son razon especifica para que estas prácticas esten diseñadas para este ambiente.\n",
    "\n",
    "En este momento empezaremos a utilizar las capacidades interactivas de Jupyter, empezaremos importando la función `interact` y `fixed` de la libreria de widgets:"
   ]
  },
  {
   "cell_type": "code",
   "execution_count": null,
   "metadata": {},
   "outputs": [],
   "source": [
    "# Se importan widgets de IPython para interactuar con la funcion\n",
    "from ipywidgets import interact, fixed\n",
    "# Si la linea anterior no funciona, se puede quitar el comentario a la siguiente linea\n",
    "#from IPython.html.widgets import interact, fixed"
   ]
  },
  {
   "cell_type": "code",
   "execution_count": null,
   "metadata": {},
   "outputs": [],
   "source": [
    "# Se define la constante τ, la cual representa la cantidad de radianes\n",
    "# en una vuelta completa\n",
    "from numpy import pi\n",
    "τ = 2*pi"
   ]
  },
  {
   "cell_type": "markdown",
   "metadata": {},
   "source": [
    "Vamos a definir una función como ejemplo, si la definimos y la usamos, obtendremos el resultado esperado:"
   ]
  },
  {
   "cell_type": "code",
   "execution_count": null,
   "metadata": {},
   "outputs": [],
   "source": [
    "f = lambda x: x**2 + 5"
   ]
  },
  {
   "cell_type": "code",
   "execution_count": null,
   "metadata": {},
   "outputs": [],
   "source": [
    "f(1)"
   ]
  },
  {
   "cell_type": "markdown",
   "metadata": {},
   "source": [
    "Sin embargo es muy aburrido ¿Que pasa si queremos sondear la función por valores interesantes?\n",
    "\n",
    "La sintaxis de la función `interact` es como sigue:\n",
    "\n",
    "```\n",
    "interact(funcion, valores_a_variar)\n",
    "```\n",
    "\n",
    "asi pues, empezando conla función podemos hacer lo siguiente:"
   ]
  },
  {
   "cell_type": "code",
   "execution_count": null,
   "metadata": {},
   "outputs": [],
   "source": [
    "i1 = interact(f, x=5)"
   ]
  },
  {
   "cell_type": "markdown",
   "metadata": {},
   "source": [
    "> Nota que el deslizador empieza en el valor que le dimos y en el punto medio. Ademas, si solo le damos valores enteros, el programa va a suponer que no nos interesan los valores flotantes.\n",
    "\n",
    "Para dar un rango de valores que queremos revisar, los damos en forma de tupla:\n",
    "\n",
    "```\n",
    "(valor_1, valor_2)\n",
    "```"
   ]
  },
  {
   "cell_type": "code",
   "execution_count": null,
   "metadata": {},
   "outputs": [],
   "source": [
    "i2 = interact(f, x=(0, τ))"
   ]
  },
  {
   "cell_type": "markdown",
   "metadata": {},
   "source": [
    "---\n",
    "## Ejercicio\n",
    "\n",
    "Utiliza la función ```interact``` para descubrir el valor aproximado, entre $0$ y $2$, en el que la función $g(x) = 3x^3 + x^2  - 2x + 5$ cruza por $0$."
   ]
  },
  {
   "cell_type": "code",
   "execution_count": null,
   "metadata": {
    "nbgrader": {
     "grade": false,
     "grade_id": "cell-1c181dc2b8d9db7c",
     "locked": false,
     "schema_version": 1,
     "solution": true
    }
   },
   "outputs": [],
   "source": [
    "### BEGIN SOLUTION\n",
    "g = lambda x: 2*x**3 - 3*x**2 + 2*x - 5\n",
    "### END SOLUTION\n",
    "i3 = interact(g, x=(0.0, 2.0))"
   ]
  },
  {
   "cell_type": "code",
   "execution_count": null,
   "metadata": {
    "nbgrader": {
     "grade": true,
     "grade_id": "cell-ec4ae96be44e0938",
     "locked": true,
     "points": 2,
     "schema_version": 1,
     "solution": false
    }
   },
   "outputs": [],
   "source": [
    "from nose.tools import assert_almost_equal\n",
    "assert_almost_equal(i3.widget.result, 0, 0)"
   ]
  },
  {
   "cell_type": "markdown",
   "metadata": {},
   "source": [
    "## Interactividad de gráficas"
   ]
  },
  {
   "cell_type": "markdown",
   "metadata": {},
   "source": [
    "Muy bien, empecemos con el ejemplo del pendulo doble, lo primero que hacemos es importar la libreria de graficación:"
   ]
  },
  {
   "cell_type": "code",
   "execution_count": null,
   "metadata": {},
   "outputs": [],
   "source": [
    "%matplotlib inline\n",
    "from matplotlib.pyplot import figure, plot, style\n",
    "from mpl_toolkits.mplot3d import Axes3D\n",
    "style.use(\"ggplot\")"
   ]
  },
  {
   "cell_type": "markdown",
   "metadata": {},
   "source": [
    "En este caso voy a utilizar una rotación alrededor de $z$ y una traslación en el eje $x$, asi que defino estas funciones:"
   ]
  },
  {
   "cell_type": "code",
   "execution_count": null,
   "metadata": {},
   "outputs": [],
   "source": [
    "def r_z(θ):\n",
    "    # Se importan funciones necesarias de la libreria numpy\n",
    "    from numpy import matrix, sin, cos\n",
    "    # Se calcula la matriz de transformación a devolver\n",
    "    A = matrix([[cos(θ), -sin(θ), 0, 0],\n",
    "                [sin(θ), cos(θ), 0, 0],\n",
    "                [0, 0, 1, 0],\n",
    "                [0, 0, 0, 1]])\n",
    "    return A\n",
    "\n",
    "def t_x(x):\n",
    "    # Se importan funciones necesarias de la libreria numpy\n",
    "    from numpy import matrix, sin, cos\n",
    "    # Se calcula la matriz de transformación a devolver\n",
    "    A = matrix([[1, 0, 0, x],\n",
    "                [0, 1, 0, 0],\n",
    "                [0, 0, 1, 0],\n",
    "                [0, 0, 0, 1]])\n",
    "    \n",
    "    return A"
   ]
  },
  {
   "cell_type": "markdown",
   "metadata": {},
   "source": [
    "Y voy a escribir una función `robot`, la cual va a tomar como argumentos mis variables, es decir los grados de libertad, y con estos valores calcular las transformaciones necesarias para obtener las posiciones de cada articulación y del actuador final. Una vez que tengo todas las posiciones, tan solo tengo que graficarlas para poder manipular esta grafica:"
   ]
  },
  {
   "cell_type": "code",
   "execution_count": null,
   "metadata": {},
   "outputs": [],
   "source": [
    "def robot(q1=0, q2=0):\n",
    "    '''\n",
    "    Esta función calcula y grafica la cinemática directa de un manipulador planar rotacional\n",
    "    de dos grados de libertad (pendulo doble).\n",
    "    \n",
    "    Necesita que la libreria matplotlib sea inicializada, al menos importando la función figure.\n",
    "    '''\n",
    "    # Se importan funciones necesarias de la libreria numpy\n",
    "    from numpy import matrix, sin, cos\n",
    "    \n",
    "    # Se definen constantes\n",
    "    l1 = 1\n",
    "    l2 = 1\n",
    "    \n",
    "    # Se define el punto origen\n",
    "    o0 = matrix([[0], [0], [0], [1]])\n",
    "    \n",
    "    # Se calculas las trasnformaciones H1 y H2\n",
    "    H1 = r_z(q1)*t_x(l1)\n",
    "    H2 = r_z(q2)*t_x(l2)\n",
    "    \n",
    "    # Se calcula la cinematica directa\n",
    "    o1 = H1*o0\n",
    "    o2 = H1*H2*o0\n",
    "    \n",
    "    # Define arreglos con las coordenadas x, y, y z de cada punto\n",
    "    xs = [o0.item(0), o1.item(0), o2.item(0)]\n",
    "    ys = [o0.item(1), o1.item(1), o2.item(1)]\n",
    "    zs = [o0.item(2), o1.item(2), o2.item(2)]\n",
    "    \n",
    "    # Define el cuadro general en donde se diuja la gráfica\n",
    "    f1 = figure(figsize=(8, 8))\n",
    "    # Agrega el area para graficar a nuestra figura, y la define como un espacio tridimensional\n",
    "    a1 = f1.add_subplot(111, projection='3d')\n",
    "\n",
    "    # Utiliza los datos en xs, ys y zs para graficar una linea con bolitas en cada extremo\n",
    "    a1.plot(xs, ys, zs, \"-o\")\n",
    "    \n",
    "    # Define los limites de la grafica en cada eje\n",
    "    a1.set_xlim(-2.1, 2.1)\n",
    "    a1.set_ylim(-2.1, 2.1)\n",
    "    a1.set_zlim(-0.1, 1.1);"
   ]
  },
  {
   "cell_type": "markdown",
   "metadata": {},
   "source": [
    "En este caso utilizo los rangos de valores `(0, τ)` ya que es toda la vuelta completa."
   ]
  },
  {
   "cell_type": "code",
   "execution_count": null,
   "metadata": {},
   "outputs": [],
   "source": [
    "interact(robot, q1=(0, τ), q2=(0, τ))"
   ]
  }
 ],
 "metadata": {
  "celltoolbar": "Create Assignment",
  "kernelspec": {
   "display_name": "Python 3",
   "language": "python",
   "name": "python3"
  },
  "language_info": {
   "codemirror_mode": {
    "name": "ipython",
    "version": 3
   },
   "file_extension": ".py",
   "mimetype": "text/x-python",
   "name": "python",
   "nbconvert_exporter": "python",
   "pygments_lexer": "ipython3",
   "version": "3.6.4"
  }
 },
 "nbformat": 4,
 "nbformat_minor": 1
}
