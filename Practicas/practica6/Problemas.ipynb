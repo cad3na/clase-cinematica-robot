{
 "cells": [
  {
   "cell_type": "markdown",
   "metadata": {},
   "source": [
    "# Problemas"
   ]
  },
  {
   "cell_type": "markdown",
   "metadata": {},
   "source": [
    "La mesa del profesor es un lugar un poco descuidado:"
   ]
  },
  {
   "cell_type": "markdown",
   "metadata": {},
   "source": [
    "![](./imagenes/mesa-profe.pdf)"
   ]
  },
  {
   "cell_type": "markdown",
   "metadata": {},
   "source": [
    "Tenemos que llevar la probeta de la posición actual $(0.30m, 0.30m, 0.05m)$ al otro lado del obstaculo, $(0.30m, -0.30m, 0.05m)$, considere que el obstaculo tiene una altura, ancho y largo de $0.15m$, que esta ubicado en $(0.15m, 0m, 0m)$ y que puede ser librado por arriba o por fuera.\n",
    "\n",
    "Las longitudes de los eslabones de este manipulador son $l_1=0.35m$, $l_2 =0.25m$ y $a=0.05m$."
   ]
  },
  {
   "cell_type": "markdown",
   "metadata": {},
   "source": [
    "---\n",
    "* Genere una función de cinemática inversa para obtener las posiciones en el espacio articular de la trayectoria."
   ]
  },
  {
   "cell_type": "code",
   "execution_count": null,
   "metadata": {
    "deletable": false,
    "nbgrader": {
     "checksum": "a693832543076cb5a7a5dc037e2b31e5",
     "grade": true,
     "grade_id": "cell-3517a695c6dfbf0c",
     "locked": false,
     "points": 3,
     "schema_version": 1,
     "solution": true
    }
   },
   "outputs": [],
   "source": [
    "# escribe tu codigo aqui\n"
   ]
  },
  {
   "cell_type": "markdown",
   "metadata": {},
   "source": [
    "---\n",
    "* Genera las trayectorias necesarias para llevar la probeta de un punto al otro de la mesa."
   ]
  },
  {
   "cell_type": "code",
   "execution_count": null,
   "metadata": {
    "deletable": false,
    "nbgrader": {
     "checksum": "49e70fca701fe68f64885b8b987758e9",
     "grade": true,
     "grade_id": "cell-f0b704358f08b91d",
     "locked": false,
     "points": 2,
     "schema_version": 1,
     "solution": true
    }
   },
   "outputs": [],
   "source": [
    "# escribe tu codigo aqui\n"
   ]
  },
  {
   "cell_type": "markdown",
   "metadata": {},
   "source": [
    "---\n",
    "* Genera una función de cinemática directa para obtener las posiciones de cada articulación del manipulador."
   ]
  },
  {
   "cell_type": "code",
   "execution_count": null,
   "metadata": {
    "deletable": false,
    "nbgrader": {
     "checksum": "a99b69c33e1e5ff62c92b5d78507f7e2",
     "grade": true,
     "grade_id": "cell-45cf82421ba45b11",
     "locked": false,
     "points": 2,
     "schema_version": 1,
     "solution": true
    }
   },
   "outputs": [],
   "source": [
    "# escribe tu codigo aqui\n"
   ]
  },
  {
   "cell_type": "markdown",
   "metadata": {},
   "source": [
    "---\n",
    "* Genere una animación del manipulador transportando la probeta."
   ]
  },
  {
   "cell_type": "code",
   "execution_count": null,
   "metadata": {
    "deletable": false,
    "nbgrader": {
     "checksum": "8c19509f19883dfe1d4425caaadf7184",
     "grade": true,
     "grade_id": "cell-8fd741a455afe3f7",
     "locked": false,
     "points": 3,
     "schema_version": 1,
     "solution": true
    }
   },
   "outputs": [],
   "source": [
    "# escribe tu codigo aqui\n"
   ]
  }
 ],
 "metadata": {
  "css": [
   ""
  ],
  "kernelspec": {
   "display_name": "Python 3",
   "language": "python",
   "name": "python3"
  },
  "language_info": {
   "codemirror_mode": {
    "name": "ipython",
    "version": 3
   },
   "file_extension": ".py",
   "mimetype": "text/x-python",
   "name": "python",
   "nbconvert_exporter": "python",
   "pygments_lexer": "ipython3",
   "version": "3.6.4"
  }
 },
 "nbformat": 4,
 "nbformat_minor": 1
}
