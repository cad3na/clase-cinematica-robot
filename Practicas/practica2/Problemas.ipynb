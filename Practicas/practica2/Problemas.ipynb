{
 "cells": [
  {
   "cell_type": "markdown",
   "metadata": {},
   "source": [
    "# Problemas"
   ]
  },
  {
   "cell_type": "markdown",
   "metadata": {},
   "source": [
    "---\n",
    "Implemente el código para las funciones que devuelvan matrices de rotación en $x$ y $y$."
   ]
  },
  {
   "cell_type": "code",
   "execution_count": null,
   "metadata": {
    "nbgrader": {
     "grade": false,
     "grade_id": "cell-7ee04b3095e7ec0a",
     "locked": false,
     "schema_version": 1,
     "solution": true
    }
   },
   "outputs": [],
   "source": [
    "def rotacion_x(θ):\n",
    "    ### BEGIN SOLUTION HERE\n",
    "    from numpy import matrix, sin, cos\n",
    "    A = matrix([[1, 0, 0, 0],\n",
    "                [0, cos(θ), -sin(θ), 0],\n",
    "                [0, sin(θ), cos(θ), 0],\n",
    "                [0, 0, 0, 1]])\n",
    "    return A\n",
    "    ### END SOLUTION HERE\n",
    "    \n",
    "def rotacion_y(θ):\n",
    "    ### BEGIN SOLUTION HERE\n",
    "    from numpy import matrix, sin, cos\n",
    "    A = matrix([[cos(θ), 0, sin(θ), 0],\n",
    "                [0, 1, 0, 0],\n",
    "                [-sin(θ), 0, cos(θ), 0],\n",
    "                [0, 0, 0, 1]])\n",
    "    return A\n",
    "    ### END SOLUTION HERE"
   ]
  },
  {
   "cell_type": "code",
   "execution_count": null,
   "metadata": {
    "nbgrader": {
     "grade": true,
     "grade_id": "cell-b149256339fe92c4",
     "locked": true,
     "points": 2,
     "schema_version": 1,
     "solution": false
    }
   },
   "outputs": [],
   "source": [
    "from numpy.testing import assert_allclose\n",
    "from numpy import eye, pi, matrix\n",
    "assert_allclose(rotacion_x(0), eye(4))\n",
    "assert_allclose(rotacion_x(pi), matrix([[1, 0, 0, 0], [0, -1, 0, 0], [0, 0, -1, 0], [0, 0, 0, 1]]), rtol=1e-05, atol=1e-05)\n",
    "assert_allclose(rotacion_y(0), eye(4))\n",
    "assert_allclose(rotacion_y(pi), matrix([[-1, 0, 0, 0], [0, 1, 0, 0], [0, 0, -1, 0], [0, 0, 0, 1]]), rtol=1e-05, atol=1e-05)\n",
    "### BEGIN HIDDEN TESTS\n",
    "def rotacion_prueba_x(θ):\n",
    "    from numpy import matrix, sin, cos\n",
    "    A = matrix([[1, 0, 0, 0],\n",
    "                [0, cos(θ), -sin(θ), 0],\n",
    "                [0, sin(θ), cos(θ), 0],\n",
    "                [0, 0, 0, 1]])\n",
    "    return A\n",
    "    \n",
    "def rotacion_prueba_y(θ):\n",
    "    from numpy import matrix, sin, cos\n",
    "    A = matrix([[cos(θ), 0, sin(θ), 0],\n",
    "                [0, 1, 0, 0],\n",
    "                [-sin(θ), 0, cos(θ), 0],\n",
    "                [0, 0, 0, 1]])\n",
    "    return A\n",
    "\n",
    "assert_allclose(rotacion_x(pi/6), rotacion_prueba_x(pi/6), rtol=1e-05, atol=1e-5)\n",
    "assert_allclose(rotacion_y(pi/6), rotacion_prueba_y(pi/6), rtol=1e-05, atol=1e-5)\n",
    "### END HIDDEN TESTS"
   ]
  },
  {
   "cell_type": "markdown",
   "metadata": {},
   "source": [
    "---\n",
    "Implemente el código para las funciones que devuelvan matrices de traslación en $x$, $y$ y $z$."
   ]
  },
  {
   "cell_type": "code",
   "execution_count": null,
   "metadata": {
    "nbgrader": {
     "grade": false,
     "grade_id": "cell-90b53718156230fc",
     "locked": false,
     "schema_version": 1,
     "solution": true
    }
   },
   "outputs": [],
   "source": [
    "def traslacion_x(x):\n",
    "    ### BEGIN SOLUTION HERE\n",
    "    from numpy import matrix, sin, cos\n",
    "    A = matrix([[1, 0, 0, x],\n",
    "                [0, 1, 0, 0],\n",
    "                [0, 0, 1, 0],\n",
    "                [0, 0, 0, 1]])\n",
    "    return A\n",
    "    ### END SOLUTION HERE\n",
    "\n",
    "def traslacion_y(y):\n",
    "    ### BEGIN SOLUTION HERE\n",
    "    from numpy import matrix, sin, cos\n",
    "    A = matrix([[1, 0, 0, 0],\n",
    "                [0, 1, 0, y],\n",
    "                [0, 0, 1, 0],\n",
    "                [0, 0, 0, 1]])\n",
    "    return A\n",
    "    ### END SOLUTION HERE\n",
    "    \n",
    "def traslacion_z(z):\n",
    "    ### BEGIN SOLUTION HERE\n",
    "    from numpy import matrix, sin, cos\n",
    "    A = matrix([[1, 0, 0, 0],\n",
    "                [0, 1, 0, 0],\n",
    "                [0, 0, 1, z],\n",
    "                [0, 0, 0, 1]])\n",
    "    return A\n",
    "    ### END SOLUTION HERE"
   ]
  },
  {
   "cell_type": "code",
   "execution_count": null,
   "metadata": {
    "nbgrader": {
     "grade": true,
     "grade_id": "cell-2e12643fb3f77fcf",
     "locked": true,
     "points": 2,
     "schema_version": 1,
     "solution": false
    }
   },
   "outputs": [],
   "source": [
    "from numpy.testing import assert_allclose\n",
    "from numpy import eye, pi, matrix, array\n",
    "assert_allclose(traslacion_x(0), eye(4), rtol=1e-05, atol=1e-05)\n",
    "assert_allclose(traslacion_x(1), matrix([[1, 0, 0, 1], [0, 1, 0, 0], [0, 0, 1, 0], [0, 0, 0, 1]]), rtol=1e-05, atol=1e-05)\n",
    "assert_allclose(traslacion_y(0), eye(4), rtol=1e-05, atol=1e-05)\n",
    "assert_allclose(traslacion_y(1), matrix([[1, 0, 0, 0], [0, 1, 0, 1], [0, 0, 1, 0], [0, 0, 0, 1]]), rtol=1e-05, atol=1e-05)\n",
    "assert_allclose(traslacion_z(0), eye(4), rtol=1e-05, atol=1e-05)\n",
    "assert_allclose(traslacion_z(1), matrix([[1, 0, 0, 0], [0, 1, 0, 0], [0, 0, 1, 1], [0, 0, 0, 1]]), rtol=1e-05, atol=1e-05)\n",
    "### BEGIN HIDDEN TESTS\n",
    "def traslacion_prueba_x(x):\n",
    "    from numpy import matrix, sin, cos\n",
    "    A = matrix([[1, 0, 0, x],\n",
    "                [0, 1, 0, 0],\n",
    "                [0, 0, 1, 0],\n",
    "                [0, 0, 0, 1]])\n",
    "    return A\n",
    "\n",
    "def traslacion_prueba_y(y):\n",
    "    from numpy import matrix, sin, cos\n",
    "    A = matrix([[1, 0, 0, 0],\n",
    "                [0, 1, 0, y],\n",
    "                [0, 0, 1, 0],\n",
    "                [0, 0, 0, 1]])\n",
    "    return A\n",
    "    \n",
    "def traslacion_prueba_z(z):\n",
    "    from numpy import matrix, sin, cos\n",
    "    A = matrix([[1, 0, 0, 0],\n",
    "                [0, 1, 0, 0],\n",
    "                [0, 0, 1, z],\n",
    "                [0, 0, 0, 1]])\n",
    "    return A\n",
    "\n",
    "assert_allclose(traslacion_x(-1), traslacion_prueba_x(-1), rtol=1e-05, atol=1e-5)\n",
    "assert_allclose(traslacion_y(-1), traslacion_prueba_y(-1), rtol=1e-05, atol=1e-5)\n",
    "assert_allclose(traslacion_z(-1), traslacion_prueba_z(-1), rtol=1e-05, atol=1e-5)\n",
    "### END HIDDEN TESTS"
   ]
  },
  {
   "cell_type": "markdown",
   "metadata": {},
   "source": [
    "---\n",
    "Implemente una cadena cinemática que describa la transformación hecha por una rotacion en $z$ de $30^o$, una rotación en $y$ de $50^o$ y una traslación en $z$ de $1m$, y guardela en la variable ```T```."
   ]
  },
  {
   "cell_type": "code",
   "execution_count": null,
   "metadata": {
    "nbgrader": {
     "grade": false,
     "grade_id": "cell-3ca3f60003bde0c7",
     "locked": false,
     "schema_version": 1,
     "solution": true
    }
   },
   "outputs": [],
   "source": [
    "from numpy import pi\n",
    "τ = 2*pi\n",
    "### BEGIN SOLUTION HERE\n",
    "def rotacion_z(θ):\n",
    "    '''\n",
    "    Esta función devuelve una matriz de transformación con valores numéricos,\n",
    "    correspondientes a una rotación alrededor del eje z.\n",
    "    '''\n",
    "    from numpy import sin, cos\n",
    "    A = matrix([[cos(θ), -sin(θ), 0, 0],\n",
    "                [sin(θ), cos(θ), 0, 0],\n",
    "                [0, 0, 1, 0],\n",
    "                [0, 0, 0, 1]])\n",
    "    return A\n",
    "\n",
    "T = traslacion_z(1)*rotacion_y(τ*50/360)*rotacion_z(τ*30/360)\n",
    "### END SOLUTION HERE"
   ]
  },
  {
   "cell_type": "code",
   "execution_count": null,
   "metadata": {
    "nbgrader": {
     "grade": true,
     "grade_id": "cell-ff2321bf85e91a73",
     "locked": true,
     "points": 1,
     "schema_version": 1,
     "solution": false
    }
   },
   "outputs": [],
   "source": [
    "from numpy.testing import assert_allclose\n",
    "### BEGIN HIDDEN TESTS\n",
    "T_prueba = traslacion_z(1)*rotacion_y(τ*50/360)*rotacion_z(τ*30/360)\n",
    "assert_allclose(T, T_prueba, rtol=1e-05, atol=1e-05)\n",
    "### END HIDDEN TESTS"
   ]
  },
  {
   "cell_type": "markdown",
   "metadata": {},
   "source": [
    "---\n",
    "Sabemos que un pendulo doble puede ser descrito por una cadena cinemática; implemente una función que tome como argumento los parametros de rotación y traslación de cada uno de sus ejes, y devuelva la posición del actuador final."
   ]
  },
  {
   "cell_type": "code",
   "execution_count": null,
   "metadata": {
    "nbgrader": {
     "grade": false,
     "grade_id": "cell-ab313b08a490f26b",
     "locked": false,
     "schema_version": 1,
     "solution": true
    }
   },
   "outputs": [],
   "source": [
    "def pendulo_doble(q1, q2, l1, l2):\n",
    "    ### BEGIN SOLUTION HERE\n",
    "    R1 = rotacion_z(q1)\n",
    "    T1 = traslacion_x(l1)\n",
    "    R2 = rotacion_z(q2)\n",
    "    T2 = traslacion_x(l2)\n",
    "    return R1*T1*R2*T2\n",
    "    ### END SOLUTION HERE"
   ]
  },
  {
   "cell_type": "code",
   "execution_count": null,
   "metadata": {
    "nbgrader": {
     "grade": true,
     "grade_id": "cell-4c34e757c54ce22a",
     "locked": true,
     "points": 3,
     "schema_version": 1,
     "solution": false
    }
   },
   "outputs": [],
   "source": [
    "from numpy.testing import assert_allclose\n",
    "from numpy import eye, pi, matrix, array\n",
    "assert_allclose(pendulo_doble(0,0,1,1), matrix([[1, 0, 0, 2], [0, 1, 0, 0], [0, 0, 1, 0], [0, 0, 0, 1]]), rtol=1e-05, atol=1e-05)\n",
    "assert_allclose(pendulo_doble(pi/2,pi/2,1,1), matrix([[-1, 0, 0, -1], [0, -1, 0, 1], [0, 0, 1, 0], [0, 0, 0, 1]]), rtol=1e-05, atol=1e-05)\n",
    "### BEGIN HIDDEN TESTS\n",
    "def pendulo_doble_prueba(q1, q2, l1, l2):\n",
    "    R1 = rotacion_z(q1)\n",
    "    T1 = traslacion_x(l1)\n",
    "    R2 = rotacion_z(q2)\n",
    "    T2 = traslacion_x(l2)\n",
    "    return R1*T1*R2*T2\n",
    "assert_allclose(pendulo_doble(pi/6, pi/6, 1, 1), pendulo_doble_prueba(pi/6, pi/6, 1, 1), rtol=1e-05, atol=1e-05)\n",
    "### END HIDDEN TESTS"
   ]
  }
 ],
 "metadata": {
  "celltoolbar": "Create Assignment",
  "css": [
   ""
  ],
  "kernelspec": {
   "display_name": "Python 3",
   "language": "python",
   "name": "python3"
  },
  "language_info": {
   "codemirror_mode": {
    "name": "ipython",
    "version": 3
   },
   "file_extension": ".py",
   "mimetype": "text/x-python",
   "name": "python",
   "nbconvert_exporter": "python",
   "pygments_lexer": "ipython3",
   "version": "3.6.4"
  }
 },
 "nbformat": 4,
 "nbformat_minor": 1
}
