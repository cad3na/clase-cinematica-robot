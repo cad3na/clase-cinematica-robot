{
 "cells": [
  {
   "cell_type": "markdown",
   "metadata": {},
   "source": [
    "# Matrices de Transformación"
   ]
  },
  {
   "cell_type": "markdown",
   "metadata": {},
   "source": [
    "Las matrices de rotación y traslación nos sirven para transformar una coordenada entre diferentes sistemas coordenados, pero tambien lo podemos ver, como la transformación que le hace cada eslabon a nuestro punto de ubicación.\n",
    "\n",
    "Empecemos con la rotación:\n",
    "\n",
    "$$\n",
    "R_z =\n",
    "\\begin{pmatrix}\n",
    "\\cos{\\theta} & -\\sin{\\theta} & 0 & 0 \\\\\n",
    "\\sin{\\theta} & \\cos{\\theta} & 0 & 0 \\\\\n",
    "0 & 0 & 1 & 0 \\\\\n",
    "0 & 0 & 0 & 1\n",
    "\\end{pmatrix}\n",
    "$$\n",
    "\n",
    "La matriz que escribimos, girará nuestro de eje de coordenadas con respecto al eje $z$ un angulo $\\theta$.\n",
    "\n",
    "![Rotación en el eje Z](./imagenes/rotacion.svg)\n",
    "\n",
    "Por cierto, las funciones trigonométricas toman como argumento el angulo en radianes, por lo que tomaré la convencion de llamar a $\\tau = 2 \\pi$, para definir los angulos como fracciones de la vuelta completa."
   ]
  },
  {
   "cell_type": "code",
   "execution_count": null,
   "metadata": {},
   "outputs": [],
   "source": [
    "from math import pi, sin, cos\n",
    "from numpy import matrix\n",
    "from matplotlib.pyplot import figure, plot, style\n",
    "from mpl_toolkits.mplot3d import Axes3D\n",
    "style.use(\"ggplot\")\n",
    "%matplotlib notebook"
   ]
  },
  {
   "cell_type": "code",
   "execution_count": null,
   "metadata": {},
   "outputs": [],
   "source": [
    "τ = 2*pi"
   ]
  },
  {
   "cell_type": "markdown",
   "metadata": {},
   "source": [
    "Para empezar definiremos nuestra posición de inicio, como la coordenada:\n",
    "\n",
    "$$\n",
    "P_1 =\n",
    "\\begin{pmatrix}\n",
    "1 \\\\\n",
    "0 \\\\\n",
    "0\n",
    "\\end{pmatrix}\n",
    "$$"
   ]
  },
  {
   "cell_type": "code",
   "execution_count": null,
   "metadata": {},
   "outputs": [],
   "source": [
    "pos_1 = matrix([[1],\n",
    "                [0],\n",
    "                [0],\n",
    "                [1]])"
   ]
  },
  {
   "cell_type": "markdown",
   "metadata": {},
   "source": [
    "Agregamos un $1$ al final, debido a que  las matrices de transformación homogenea son de dimensión $\\Re^{4\\times 4}$ y de otra manera no concordarian las dimensiones.\n",
    "\n",
    "De manera similar vamos a definir el punto origen, el cual nos va a permitir definir una trayectoria para dibujar nuestro vector:"
   ]
  },
  {
   "cell_type": "code",
   "execution_count": null,
   "metadata": {},
   "outputs": [],
   "source": [
    "o = matrix([[0],\n",
    "            [0],\n",
    "            [0],\n",
    "            [1]])"
   ]
  },
  {
   "cell_type": "markdown",
   "metadata": {},
   "source": [
    "Una vez que tenemos estos puntos, juntamos los elementos de $x$, $y$ y $z$ de cada uno para poderlos graficar:"
   ]
  },
  {
   "cell_type": "code",
   "execution_count": null,
   "metadata": {},
   "outputs": [],
   "source": [
    "xs = [o.item(0), pos_1.item(0)]\n",
    "ys = [o.item(1), pos_1.item(1)]\n",
    "zs = [o.item(2), pos_1.item(2)]"
   ]
  },
  {
   "cell_type": "markdown",
   "metadata": {},
   "source": [
    "Ahora podemos graficar en tres dimensiones de la siguiente manera:"
   ]
  },
  {
   "cell_type": "code",
   "execution_count": null,
   "metadata": {},
   "outputs": [],
   "source": [
    "# Define el cuadro general en donde se diuja la gráfica\n",
    "f1 = figure(figsize=(6, 6))\n",
    "# Agrega el area para graficar a nuestra figura\n",
    "a1 = f1.add_subplot(111, projection='3d')\n",
    "\n",
    "# Utiliza los datos en xs, ys y zs para graficar una linea con bolitas en cada extremo\n",
    "a1.plot(xs, ys, zs, \"-o\")\n",
    "# Define los limites de la grafica en cada eje\n",
    "a1.set_xlim(-0.1, 1.1)\n",
    "a1.set_ylim(-0.1, 1.1)\n",
    "a1.set_zlim(-0.1, 1.1);"
   ]
  },
  {
   "cell_type": "markdown",
   "metadata": {},
   "source": [
    "---\n",
    "## Ejercicio\n",
    "\n",
    "Dibuja un triangulo que tenga vertices en los puntos $p_1 = (1,1)$, $p_2 = (1,2)$ y $p_3 = (2,2)$, en el plano $xy$ (con una elevación $z=0$)."
   ]
  },
  {
   "cell_type": "code",
   "execution_count": null,
   "metadata": {
    "nbgrader": {
     "grade": false,
     "grade_id": "cell-b0fd845c3855e894",
     "locked": false,
     "schema_version": 1,
     "solution": true
    }
   },
   "outputs": [],
   "source": [
    "fig = figure(figsize=(6, 6))\n",
    "ax = fig.add_subplot(111, projection='3d')\n",
    "\n",
    "### BEGIN SOLUTION HERE\n",
    "x1, y1, z1 = ([1, 1], [1, 2], [0,0])\n",
    "x2, y2, z2 = ([1, 2], [2, 2], [0,0])\n",
    "x3, y3, z3 = ([2, 1], [2, 1], [0,0])\n",
    "ax.plot(x1, y1, z1, \"-\")\n",
    "ax.plot(x2, y2, z2, \"-\")\n",
    "ax.plot(x3, y3, z3, \"-\")\n",
    "### END SOLUTION HERE\n",
    "ax.set_xlim(-0.1, 2.1)\n",
    "ax.set_ylim(-0.1, 2.1)\n",
    "ax.set_zlim(-0.1, 1.1);"
   ]
  },
  {
   "cell_type": "code",
   "execution_count": null,
   "metadata": {
    "nbgrader": {
     "grade": true,
     "grade_id": "cell-ed0a3e37a65de4e4",
     "locked": true,
     "points": 2,
     "schema_version": 1,
     "solution": false
    }
   },
   "outputs": [],
   "source": [
    "from numpy.testing import assert_allclose\n",
    "ls = ax.get_lines()\n",
    "assert_allclose(ls[0].get_xdata(), [0,  0.02154399], rtol=1e-05, atol=1e-05)\n",
    "assert_allclose(ls[1].get_xdata(), [0.02154399, 0.05997832], rtol=1e-05, atol=1e-05)\n",
    "assert_allclose(ls[2].get_xdata(), [0.05997832, 0], rtol=1e-05, atol=1e-05)"
   ]
  },
  {
   "cell_type": "markdown",
   "metadata": {},
   "source": [
    "Podemos definir matrices de la siguiente manera, y ver que el resultado es lo que esperariamos si quisieramos rotar el vector unitario $\\hat{i}$ , con $30^o$ es decir $\\frac{\\tau}{12}$."
   ]
  },
  {
   "cell_type": "code",
   "execution_count": null,
   "metadata": {},
   "outputs": [],
   "source": [
    "rot_1 = matrix([[cos(τ/12), -sin(τ/12), 0, 0],\n",
    "                [sin(τ/12), cos(τ/12), 0, 0],\n",
    "                [0, 0, 1, 0],\n",
    "                [0, 0, 0, 1]])\n",
    "\n",
    "rot_1*pos_1"
   ]
  },
  {
   "cell_type": "markdown",
   "metadata": {},
   "source": [
    "Pero podemos hacer algo mejor, podemos definir una función que nos devuelva una matriz de rotación, dandole como argumento el angulo de rotación."
   ]
  },
  {
   "cell_type": "code",
   "execution_count": null,
   "metadata": {},
   "outputs": [],
   "source": [
    "def rotacion_z(θ):\n",
    "    '''\n",
    "    Esta función devuelve una matriz de transformación con valores numéricos,\n",
    "    correspondientes a una rotación alrededor del eje z.\n",
    "    '''\n",
    "    A = matrix([[cos(θ), -sin(θ), 0, 0],\n",
    "                [sin(θ), cos(θ), 0, 0],\n",
    "                [0, 0, 1, 0],\n",
    "                [0, 0, 0, 1]])\n",
    "    return A"
   ]
  },
  {
   "cell_type": "markdown",
   "metadata": {},
   "source": [
    "Con lo que podemos usar esta función para crear la matriz de rotación necesaria:"
   ]
  },
  {
   "cell_type": "code",
   "execution_count": null,
   "metadata": {},
   "outputs": [],
   "source": [
    "rot_2 = rotacion_z(τ/12)\n",
    "rot_2"
   ]
  },
  {
   "cell_type": "markdown",
   "metadata": {},
   "source": [
    "Entonces, tendremos el mismo resultado, con un codigo mas limpio."
   ]
  },
  {
   "cell_type": "code",
   "execution_count": null,
   "metadata": {},
   "outputs": [],
   "source": [
    "p = rot_2*pos_1\n",
    "p"
   ]
  },
  {
   "cell_type": "markdown",
   "metadata": {},
   "source": [
    "Y usamos el mismo codigo para separar las coordenadas $x$, $y$ y $z$:"
   ]
  },
  {
   "cell_type": "code",
   "execution_count": null,
   "metadata": {},
   "outputs": [],
   "source": [
    "xs = [o.item(0), p.item(0)]\n",
    "ys = [o.item(1), p.item(1)]\n",
    "zs = [o.item(2), p.item(2)]"
   ]
  },
  {
   "cell_type": "code",
   "execution_count": null,
   "metadata": {},
   "outputs": [],
   "source": [
    "f2 = figure(figsize=(8, 8))\n",
    "a2 = f2.add_subplot(111, projection='3d')\n",
    "\n",
    "a2.plot(xs, ys, zs, \"-o\")\n",
    "a2.set_xlim(-0.1, 1.1)\n",
    "a2.set_ylim(-0.1, 1.1)\n",
    "a2.set_zlim(-0.1, 1.1);"
   ]
  }
 ],
 "metadata": {
  "celltoolbar": "Create Assignment",
  "kernelspec": {
   "display_name": "Python 3",
   "language": "python",
   "name": "python3"
  },
  "language_info": {
   "codemirror_mode": {
    "name": "ipython",
    "version": 3
   },
   "file_extension": ".py",
   "mimetype": "text/x-python",
   "name": "python",
   "nbconvert_exporter": "python",
   "pygments_lexer": "ipython3",
   "version": "3.6.4"
  }
 },
 "nbformat": 4,
 "nbformat_minor": 1
}
