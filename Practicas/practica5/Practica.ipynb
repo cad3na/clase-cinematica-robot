{
 "cells": [
  {
   "cell_type": "markdown",
   "metadata": {},
   "source": [
    "# Generación de trayectorias por medio de LSPB"
   ]
  },
  {
   "cell_type": "markdown",
   "metadata": {},
   "source": [
    "El objetivo de esta práctica es generar una trayectoria para un robot manipulador, de tal manera que no tenga cambios bruscos de posición o velocidad.\n",
    "\n",
    "El algoritmo general que vamos a usar se llama LSPB (Linear segment with parabolic blend), en el cual vamos a tener una velocidad de crucero para el manipulador, así como un periodo en el que el manipulador acelerará constantemente y otro periodo en el que desacelererá.\n",
    "\n",
    "Una trayectoria generada por este método se ve asi:\n",
    "\n",
    "![](./imagenes/LSPB.png)\n",
    "\n",
    "En la primer sección se tiene una aceleración constante, en la segunda una velocidad constante y en la tercera una aceleración constante de signo contrario a la primera.\n",
    "\n",
    "El método por el que se generó no es particularmente dificil, tan solo es un poco engorroso de programar, por lo que para facilidad de esta práctica, este método ya esta programado, tan solo hay que importar el código:"
   ]
  },
  {
   "cell_type": "code",
   "execution_count": null,
   "metadata": {},
   "outputs": [],
   "source": [
    "from generacion_trayectorias import grafica_trayectoria\n",
    "%matplotlib inline"
   ]
  },
  {
   "cell_type": "markdown",
   "metadata": {},
   "source": [
    "Vamos a hacer una prueba en primer lugar:"
   ]
  },
  {
   "cell_type": "code",
   "execution_count": null,
   "metadata": {},
   "outputs": [],
   "source": [
    "ts, qs, q̇s, q̈s = grafica_trayectoria(0, 2, 0, 1, 1000)"
   ]
  },
  {
   "cell_type": "markdown",
   "metadata": {},
   "source": [
    "En la gráfica anterior podemos ver no solo la posición en el primer cuadro, si no tambien la velocidad y la aceleración en el segundo y tercero, de tal manera que nos damos una mejor idea de la trayectoria.\n",
    "\n",
    "Vamos a generar un conjunto de trayectorias para un ejemplo, primero empecemos importando ```pi```:"
   ]
  },
  {
   "cell_type": "code",
   "execution_count": null,
   "metadata": {},
   "outputs": [],
   "source": [
    "from numpy import pi\n",
    "τ = 2*pi"
   ]
  },
  {
   "cell_type": "markdown",
   "metadata": {},
   "source": [
    "Vamos a generar una trayectoria en la que en los primero dos segundos se mueva de $0^o$ a $90^o$, en los segundos dos segundos de $90^o$ a $-60^o$ y en los ultimos seis segundos de $-60^o$ a $240^o$:"
   ]
  },
  {
   "cell_type": "code",
   "execution_count": null,
   "metadata": {},
   "outputs": [],
   "source": [
    "ts, q1, q̇1, q̈1 = grafica_trayectoria(0, 2, 0, τ/4, 100)"
   ]
  },
  {
   "cell_type": "code",
   "execution_count": null,
   "metadata": {},
   "outputs": [],
   "source": [
    "ts, q2, q̇2, q̈2 = grafica_trayectoria(2, 4, τ/4, -τ/6, 100)"
   ]
  },
  {
   "cell_type": "code",
   "execution_count": null,
   "metadata": {},
   "outputs": [],
   "source": [
    "ts, q3, q̇3, q̈3 = grafica_trayectoria(4, 10, -τ/6, 2*τ/3, 300)"
   ]
  },
  {
   "cell_type": "markdown",
   "metadata": {},
   "source": [
    "Si quiero concatenar todos estos arreglos que generé, tan solo tengo que sumarlos:"
   ]
  },
  {
   "cell_type": "code",
   "execution_count": null,
   "metadata": {},
   "outputs": [],
   "source": [
    "qs = q1 + q2 + q3"
   ]
  },
  {
   "cell_type": "markdown",
   "metadata": {},
   "source": [
    "Esta trayectoria la podemos graficar:"
   ]
  },
  {
   "cell_type": "code",
   "execution_count": null,
   "metadata": {},
   "outputs": [],
   "source": [
    "from matplotlib.pyplot import figure, style"
   ]
  },
  {
   "cell_type": "code",
   "execution_count": null,
   "metadata": {},
   "outputs": [],
   "source": [
    "from numpy import linspace\n",
    "fig = figure(figsize=(17, 5))\n",
    "ax = fig.gca()\n",
    "ts = linspace(0, 10, 500)\n",
    "ax.plot(ts, qs)"
   ]
  },
  {
   "cell_type": "markdown",
   "metadata": {},
   "source": [
    "Pero mas importante, puedo generar una animación, tomando en cuenta que es un pendulo simple:"
   ]
  },
  {
   "cell_type": "code",
   "execution_count": null,
   "metadata": {},
   "outputs": [],
   "source": [
    "# Se importa la funcion animation para crear la animacion, y rc para poder mostrar el video\n",
    "# directamente en el notebook\n",
    "from matplotlib import animation, rc\n",
    "rc('animation', html='html5')\n",
    "# Se importan las funciones necesarias para calcular la cinematica directa e inversa\n",
    "from numpy import sin, cos, arange"
   ]
  },
  {
   "cell_type": "code",
   "execution_count": null,
   "metadata": {},
   "outputs": [],
   "source": [
    "# Se define una funcion para calcular la cinematica directa del sistema\n",
    "def cinematica_directa_pendulo(q1):\n",
    "    # Se definen constantes utilizadas para graficar el sistema\n",
    "    l1, l2 = 1, 1\n",
    "    xs = [0, l1*cos(q1)]\n",
    "    ys = [0, l1*sin(q1)]\n",
    "    return xs, ys"
   ]
  },
  {
   "cell_type": "code",
   "execution_count": null,
   "metadata": {},
   "outputs": [],
   "source": [
    "# Se define el tamaño de la figura\n",
    "fig = figure(figsize=(8, 8))\n",
    "\n",
    "# Se define una sola grafica en la figura y se dan los limites de los ejes x y y\n",
    "axi = fig.add_subplot(111, autoscale_on=False, xlim=(-1.1, 1.1), ylim=(-1.1, 1.1))\n",
    "\n",
    "# Se utilizan graficas de linea para el eslabon del pendulo\n",
    "linea, = axi.plot([], [], \"-o\", lw=2, color='gray')\n",
    "\n",
    "def inicializacion():\n",
    "    '''Esta funcion se ejecuta una sola vez y sirve para inicializar el sistema'''\n",
    "    \n",
    "    # Se inicializa la linea vacia para evitar que al principio exista una linea en la grafica\n",
    "    linea.set_data([], [])\n",
    "    return linea\n",
    "\n",
    "def animacion(i):\n",
    "    '''Esta funcion se ejecuta para cada cuadro del GIF'''\n",
    "    \n",
    "    # Se obtienen las coordenadas x y y para el eslabon\n",
    "    xs, ys = cinematica_directa_pendulo(qs[i])\n",
    "    # Se actualiza el estado de la linea con las coordenadas calculadas\n",
    "    linea.set_data(xs, ys)\n",
    "    \n",
    "    return linea\n",
    "\n",
    "# Se hace la animacion dandole la funcion que se debe ejecutar para cada cuadro, el numero de cuadros\n",
    "# que se debe de hacer, el periodo de cada cuadro y la funcion inicial\n",
    "ani = animation.FuncAnimation(fig, animacion, arange(1, len(qs)), interval=20, init_func=inicializacion)\n",
    "ani"
   ]
  }
 ],
 "metadata": {
  "kernelspec": {
   "display_name": "Python 3",
   "language": "python",
   "name": "python3"
  },
  "language_info": {
   "codemirror_mode": {
    "name": "ipython",
    "version": 3
   },
   "file_extension": ".py",
   "mimetype": "text/x-python",
   "name": "python",
   "nbconvert_exporter": "python",
   "pygments_lexer": "ipython3",
   "version": "3.6.4"
  }
 },
 "nbformat": 4,
 "nbformat_minor": 1
}
