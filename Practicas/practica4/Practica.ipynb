{
 "cells": [
  {
   "cell_type": "markdown",
   "metadata": {},
   "source": [
    "# Algoritmo de Denavit - Hartenberg"
   ]
  },
  {
   "cell_type": "markdown",
   "metadata": {},
   "source": [
    "## Calculo simbólico"
   ]
  },
  {
   "cell_type": "markdown",
   "metadata": {},
   "source": [
    "Dentro del notebook de Jupyter tenemos la ventaja de utilizar diferentes tipos de elementos desplegables en un página web, como imagenes, interfaces graficas, etc. En esta práctica utilizaremos un nuevo tipo de elementos que nos ayudan a desplegar matemáticas de una manera estetica y funcional.\n",
    "\n",
    "Como algunos ya se habran dado cuenta, dentro de un notebook tenemos diferentes tipos de celdas, las que aparecen por default cuando creas una nueva celda son celdas de código, pero si queremos una celda de comentarios, tan solo tenemos que cambiarla en el menu de arriba por el tipo `Markdown`.\n",
    "\n",
    "![](./imagenes/tipo_celda.png)"
   ]
  },
  {
   "cell_type": "markdown",
   "metadata": {},
   "source": [
    "En este tipo de celda podemos incluso añadir imagenes como la que esta arriba (si quieres ver como se hace, tan solo tienes que hacer doble clic sobre la celda para desplegar el código utilizado).\n",
    "\n",
    "En especifico nos interesa poder escribir ecuaciones matemáticas como $x_1 = 10$, o bien \n",
    "\n",
    "$$ E = m c^2 $$\n",
    "\n",
    "> Nota que dependiendo del numero de `$`, la ecuación aparecerá en linea junto con el texto, o aparte y centrado."
   ]
  },
  {
   "cell_type": "markdown",
   "metadata": {},
   "source": [
    "Pero hasta el momento no hemos hecho ningun cálculo con estas ecuaciones, tan solo las hemos escrito, y a pesar de que se ven bien, no podemos manipularlas de ninguna manera.\n",
    "\n",
    "\n",
    "Para esto nos ayudará la librería `sympy`, la cual esta diseñada especificamente para poder hacer cálculos simbólicos. Para empezar tenemos que importar algunas funciones de la librería."
   ]
  },
  {
   "cell_type": "code",
   "execution_count": null,
   "metadata": {},
   "outputs": [],
   "source": [
    "# Esta libreria tiene las funciones principales que utilizaremos\n",
    "from sympy import var, Matrix, Function, sin, cos, pi, trigsimp\n",
    "# Esta libreria contiene una funcion que la va a dar un formato \"bonito\" a nuestras ecuaciones\n",
    "from sympy.physics.mechanics import mechanics_printing\n",
    "mechanics_printing()\n",
    "τ = 2*pi"
   ]
  },
  {
   "cell_type": "markdown",
   "metadata": {},
   "source": [
    "Una vez importadas las funciones de nuestra librería, podemos empezar declarando variables (o constantes) conocidas para nosotros."
   ]
  },
  {
   "cell_type": "code",
   "execution_count": null,
   "metadata": {},
   "outputs": [],
   "source": [
    "var(\"t q1 q2 q3\")"
   ]
  },
  {
   "cell_type": "code",
   "execution_count": null,
   "metadata": {},
   "outputs": [],
   "source": [
    "var(\"l1:4\")"
   ]
  },
  {
   "cell_type": "markdown",
   "metadata": {},
   "source": [
    "> Nota que cualquiera de estas dos notaciones es valida para importar variables de sympy\n",
    "\n",
    "Si ahora creamos una matriz con nuestros datos es posible utilizar las operaciones de matrices conocidas por nosotros, por ejemplo vamos hacer una transformación de movimientos rígidos, definida por la siguiente ecuación:\n",
    "\n",
    "$$ p_1^0 = R_1 p_0^0 + d_1^0 $$ "
   ]
  },
  {
   "cell_type": "code",
   "execution_count": null,
   "metadata": {},
   "outputs": [],
   "source": [
    "# Defino el punto origen, la rotación y traslación aplicados\n",
    "p0 = Matrix([[2],\n",
    "             [3],\n",
    "             [0]])\n",
    "R1 = Matrix([[cos(q1), -sin(q1), 0],\n",
    "             [sin(q1), cos(q1), 0],\n",
    "             [0, 0, 1]])\n",
    "d1 = Matrix([[l1],\n",
    "             [0],\n",
    "             [0]])"
   ]
  },
  {
   "cell_type": "code",
   "execution_count": null,
   "metadata": {},
   "outputs": [],
   "source": [
    "p1 = R1*p0 + d1\n",
    "p1"
   ]
  },
  {
   "cell_type": "markdown",
   "metadata": {},
   "source": [
    "## Convención Denavit - Hartenberg"
   ]
  },
  {
   "cell_type": "markdown",
   "metadata": {},
   "source": [
    "Sabemos que la conveción Denavit - Hartenberg es una manera de obtener las transformaciones homogéneas necesarias para cada eslabon de un manipulador, sin embargo las multiplicaciones de matrices resultantes de este algorimto por lo general consumen demasiado tiempo, por lo que en esta práctica aprenderemos a definir una función que calcule cada matriz de transformación y poder multiplicarlas con la computadora.\n",
    "\n",
    "Lo primero que necesitamos es la matriz general del algoritmo Denavit - Hartenberg:\n",
    "\n",
    "$$\n",
    "A_i = \n",
    "\\begin{pmatrix}\n",
    "    c_{\\theta_i} & -s_{\\theta_i} c_{\\alpha_i} & s_{\\theta_i} s_{\\alpha_i} & a_i c_{\\theta_i} \\\\\n",
    "    s_{\\theta_i} & c_{\\theta_i} c_{\\alpha_i} & -c_{\\theta_i} s_{\\alpha_i} & a_i s_{\\theta_i} \\\\\n",
    "    0 & s_{\\alpha_i} & c_{\\alpha_i} & d_i \\\\\n",
    "    0 & 0 & 0 & 1\n",
    "\\end{pmatrix}\n",
    "$$\n",
    "\n",
    "Si escribimos esta matriz dando valores aleatorios a $\\theta$, $\\alpha$, $d$ y $a$, tendremos:"
   ]
  },
  {
   "cell_type": "code",
   "execution_count": null,
   "metadata": {},
   "outputs": [],
   "source": [
    "a = 1.2\n",
    "d = 0\n",
    "α = τ/4\n",
    "θ = q1\n",
    "\n",
    "A1 = Matrix([[cos(θ), -sin(θ)*cos(α), sin(θ)*sin(α), a*cos(θ)],\n",
    "             [sin(θ), cos(θ)*cos(α), -cos(θ)*sin(α), a*sin(θ)],\n",
    "             [0, sin(α), cos(α), d],\n",
    "             [0, 0, 0, 1]])"
   ]
  },
  {
   "cell_type": "code",
   "execution_count": null,
   "metadata": {},
   "outputs": [],
   "source": [
    "A1"
   ]
  },
  {
   "cell_type": "markdown",
   "metadata": {},
   "source": [
    "Dando otros valores aleatorios a la misma matriz tendremos:"
   ]
  },
  {
   "cell_type": "code",
   "execution_count": null,
   "metadata": {},
   "outputs": [],
   "source": [
    "a = 0.8\n",
    "d = 0\n",
    "α = 0\n",
    "θ = q2\n",
    "\n",
    "A2 = Matrix([[cos(θ), -sin(θ)*cos(α), sin(θ)*sin(α), a*cos(θ)],\n",
    "             [sin(θ), cos(θ)*cos(α), -cos(θ)*sin(α), a*sin(θ)],\n",
    "             [0, sin(α), cos(α), d],\n",
    "             [0, 0, 0, 1]])"
   ]
  },
  {
   "cell_type": "code",
   "execution_count": null,
   "metadata": {},
   "outputs": [],
   "source": [
    "A2"
   ]
  },
  {
   "cell_type": "markdown",
   "metadata": {},
   "source": [
    "Y de la misma manera que en cualquier motor de algebra, si queremos multiplicar, tan solo tenemos que hacerlo:"
   ]
  },
  {
   "cell_type": "code",
   "execution_count": null,
   "metadata": {},
   "outputs": [],
   "source": [
    "A1*A2"
   ]
  },
  {
   "cell_type": "markdown",
   "metadata": {},
   "source": [
    "o bien, obtener la matriz inversa:"
   ]
  },
  {
   "cell_type": "code",
   "execution_count": null,
   "metadata": {},
   "outputs": [],
   "source": [
    "A1.inv()"
   ]
  },
  {
   "cell_type": "markdown",
   "metadata": {},
   "source": [
    "la cual, a veces puede ser simplificada:"
   ]
  },
  {
   "cell_type": "code",
   "execution_count": null,
   "metadata": {},
   "outputs": [],
   "source": [
    "trigsimp(A1.inv())"
   ]
  }
 ],
 "metadata": {
  "kernelspec": {
   "display_name": "Python 3",
   "language": "python",
   "name": "python3"
  },
  "language_info": {
   "codemirror_mode": {
    "name": "ipython",
    "version": 3
   },
   "file_extension": ".py",
   "mimetype": "text/x-python",
   "name": "python",
   "nbconvert_exporter": "python",
   "pygments_lexer": "ipython3",
   "version": "3.6.6"
  }
 },
 "nbformat": 4,
 "nbformat_minor": 2
}
