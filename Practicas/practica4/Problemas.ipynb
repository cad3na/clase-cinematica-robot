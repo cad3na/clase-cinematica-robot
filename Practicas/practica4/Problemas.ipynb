{
 "cells": [
  {
   "cell_type": "markdown",
   "metadata": {},
   "source": [
    "# Problemas"
   ]
  },
  {
   "cell_type": "markdown",
   "metadata": {},
   "source": [
    "---\n",
    "Defina una función que tome como argumentos los parametros de Denavit - Hartenberg, y cree una matriz de transformación homogénea."
   ]
  },
  {
   "cell_type": "code",
   "execution_count": null,
   "metadata": {
    "nbgrader": {
     "grade": false,
     "grade_id": "cell-d796d71f88ca3f1a",
     "locked": false,
     "schema_version": 1,
     "solution": true
    }
   },
   "outputs": [],
   "source": [
    "def DH_simbolico(a, d, α, θ):\n",
    "    from sympy import Matrix, sin, cos\n",
    "    ### BEGIN SOLUTION\n",
    "    A = Matrix([[cos(θ), -sin(θ)*cos(α), sin(θ)*sin(α), a*cos(θ)],\n",
    "                 [sin(θ), cos(θ)*cos(α), -cos(θ)*sin(α), a*sin(θ)],\n",
    "                 [0, sin(α), cos(α), d],\n",
    "                 [0, 0, 0, 1]])\n",
    "    return A\n",
    "    ### END SOLUTION"
   ]
  },
  {
   "cell_type": "code",
   "execution_count": null,
   "metadata": {
    "nbgrader": {
     "grade": true,
     "grade_id": "cell-2e02d67eabed1e86",
     "locked": true,
     "points": 2,
     "schema_version": 1,
     "solution": false
    }
   },
   "outputs": [],
   "source": [
    "from sympy import Matrix, sin, cos, pi\n",
    "from nose.tools import assert_equal\n",
    "assert_equal(DH_simbolico(0,0,0,pi/2), Matrix([[0,-1,0,0],[1,0,0,0], [0,0,1,0],[0,0,0,1]]))\n",
    "assert_equal(DH_simbolico(0,0,pi/2,0), Matrix([[1,0,0,0],[0,0,-1,0], [0,1,0,0],[0,0,0,1]]))\n",
    "assert_equal(DH_simbolico(0,1,0,0), Matrix([[1,0,0,0],[0,1,0,0], [0,0,1,1],[0,0,0,1]]))\n",
    "assert_equal(DH_simbolico(1,0,0,0), Matrix([[1,0,0,1],[0,1,0,0], [0,0,1,0],[0,0,0,1]]))"
   ]
  },
  {
   "cell_type": "markdown",
   "metadata": {},
   "source": [
    "---\n",
    "Cree una función que tome como argumentos los parametros de los grados de libertad de un manipulador tipo PUMA y devuelva las matrices de transformación homogénea asociadas a cada eslabon."
   ]
  },
  {
   "cell_type": "code",
   "execution_count": null,
   "metadata": {
    "nbgrader": {
     "grade": false,
     "grade_id": "cell-8759bf18b64c88c0",
     "locked": false,
     "schema_version": 1,
     "solution": true
    }
   },
   "outputs": [],
   "source": [
    "def cinematica_PUMA(q1, q2, q3):\n",
    "    from sympy import pi, var\n",
    "    var(\"l1:4\")\n",
    "    ### BEGIN SOLUTION\n",
    "    A1 = DH_simbolico(0,l1,pi/2, q1)\n",
    "    A2 = DH_simbolico(l2, 0, 0, q2)\n",
    "    A3 = DH_simbolico(l3, 0, 0, q3)\n",
    "    ### END SOLUTION\n",
    "    return A1, A2, A3"
   ]
  },
  {
   "cell_type": "code",
   "execution_count": null,
   "metadata": {
    "nbgrader": {
     "grade": true,
     "grade_id": "cell-5bdcfe97ca2cef34",
     "locked": true,
     "points": 2,
     "schema_version": 1,
     "solution": false
    }
   },
   "outputs": [],
   "source": [
    "from nose.tools import assert_equal\n",
    "from sympy import pi, var, Matrix\n",
    "var(\"l1:4\")\n",
    "A1, A2, A3 = cinematica_PUMA(0, 0, 0)\n",
    "assert_equal(A1*A2*A3, Matrix([[1,0,0,l2+l3], [0,0,-1,0], [0,1,0,l1], [0,0,0,1]]))\n",
    "A1, A2, A3 = cinematica_PUMA(pi/2, 0, 0)\n",
    "assert_equal(A1*A2*A3, Matrix([[0,0,1,0], [1,0,0,l2+l3], [0,1,0,l1], [0,0,0,1]]))\n",
    "A1, A2, A3 = cinematica_PUMA(0, pi/2, 0)\n",
    "assert_equal(A1*A2*A3, Matrix([[0,-1,0,0], [0,0,-1,0], [1,0,0,l1+l2+l3], [0,0,0,1]]))\n",
    "A1, A2, A3 = cinematica_PUMA(0, 0, pi/2)\n",
    "assert_equal(A1*A2*A3, Matrix([[0,-1,0,l2], [0,0,-1,0], [1,0,0,l1+l3], [0,0,0,1]]))"
   ]
  },
  {
   "cell_type": "markdown",
   "metadata": {},
   "source": [
    "---\n",
    "Cree una función que dados los angulos del manipulador devuelva la transformación total del manipulador (ayudese de la función creada en el segundo problema)."
   ]
  },
  {
   "cell_type": "code",
   "execution_count": null,
   "metadata": {
    "nbgrader": {
     "grade": false,
     "grade_id": "cell-67941966e2bb0f7f",
     "locked": false,
     "schema_version": 1,
     "solution": true
    }
   },
   "outputs": [],
   "source": [
    "def transformacion_PUMA(q1, q2, q3):\n",
    "    from sympy import pi, var\n",
    "    var(\"l1:4\")\n",
    "    ### BEGIN SOLUTION\n",
    "    A1 = DH_simbolico(0,l1,pi/2, q1)\n",
    "    A2 = DH_simbolico(l2, 0, 0, q2)\n",
    "    A3 = DH_simbolico(l3, 0, 0, q3)\n",
    "    return A1*A2*A3\n",
    "    ### END SOLUTION"
   ]
  },
  {
   "cell_type": "code",
   "execution_count": null,
   "metadata": {
    "nbgrader": {
     "grade": true,
     "grade_id": "cell-1360716371127399",
     "locked": true,
     "points": 1,
     "schema_version": 1,
     "solution": false
    }
   },
   "outputs": [],
   "source": [
    "from nose.tools import assert_equal\n",
    "from sympy import pi, var, Matrix\n",
    "var(\"l1:4\")\n",
    "assert_equal(transformacion_PUMA(0, 0, 0), Matrix([[1,0,0,l2+l3], [0,0,-1,0], [0,1,0,l1], [0,0,0,1]]))\n",
    "assert_equal(transformacion_PUMA(pi/2, 0, 0), Matrix([[0,0,1,0], [1,0,0,l2+l3], [0,1,0,l1], [0,0,0,1]]))\n",
    "assert_equal(transformacion_PUMA(0, pi/2, 0), Matrix([[0,-1,0,0], [0,0,-1,0], [1,0,0,l1+l2+l3], [0,0,0,1]]))\n",
    "assert_equal(transformacion_PUMA(0, 0, pi/2), Matrix([[0,-1,0,l2], [0,0,-1,0], [1,0,0,l1+l3], [0,0,0,1]]))"
   ]
  },
  {
   "cell_type": "markdown",
   "metadata": {},
   "source": [
    "---\n",
    "Cree una función que dados los angulos del manipulador, grafique las posiciones de los eslabones del manipulador del primer punto (ayudese de las funciones creadas en el primer y segundo problemas, modificadas ligeramente para aceptar matrices numéricas, así como la función creada en la práctica anterior para la graficación de un sistema robótico)."
   ]
  },
  {
   "cell_type": "code",
   "execution_count": null,
   "metadata": {
    "nbgrader": {
     "grade": false,
     "grade_id": "cell-d9e16df1267dfeb6",
     "locked": false,
     "schema_version": 1,
     "solution": true
    }
   },
   "outputs": [],
   "source": [
    "def DH_numerico(a, d, α, θ):\n",
    "    ### BEGIN SOLUTION\n",
    "    from numpy import matrix, sin, cos\n",
    "    A = matrix([[cos(θ), -sin(θ)*cos(α), sin(θ)*sin(α), a*cos(θ)],\n",
    "                 [sin(θ), cos(θ)*cos(α), -cos(θ)*sin(α), a*sin(θ)],\n",
    "                 [0, sin(α), cos(α), d],\n",
    "                 [0, 0, 0, 1]])\n",
    "    return A\n",
    "    ### END SOLUTION\n",
    "    \n",
    "def cinematica_PUMA(q1, q2, q3):\n",
    "    # Considere que las longitudes son todas iguales a 1\n",
    "    l1, l2, l3 = 1, 1, 1\n",
    "    from numpy import pi\n",
    "    ### BEGIN SOLUTION\n",
    "    A1 = DH_numerico(0,l1,pi/2, q1)\n",
    "    A2 = DH_numerico(l2, 0, 0, q2)\n",
    "    A3 = DH_numerico(l3, 0, 0, q3)\n",
    "    ### END SOLUTION\n",
    "    return A1, A2, A3\n",
    "\n",
    "def grafica_PUMA(q1, q2, q3):\n",
    "    from numpy import matrix\n",
    "    ### BEGIN SOLUTION HERE\n",
    "    A1, A2, A3 = cinematica_PUMA(q1, q2, q3)\n",
    "    \n",
    "    H1 = A1\n",
    "    H2 = A1*A2\n",
    "    H3 = A1*A2*A3\n",
    "    \n",
    "    o0 = matrix([[0],[0],[0],[1]])\n",
    "    o1, o2, o3 = H1*o0, H2*o0, H3*o0\n",
    "    \n",
    "    xs = [o0.item(0), o1.item(0), o2.item(0), o3.item(0)]\n",
    "    ys = [o0.item(1), o1.item(1), o2.item(1), o3.item(1)]\n",
    "    zs = [o0.item(2), o1.item(2), o2.item(2), o3.item(2)]\n",
    "    ### END SOLUTION HERE\n",
    "    fig = figure(figsize=(8, 8))\n",
    "    ax = fig.add_subplot(111, projection='3d')\n",
    "\n",
    "    ax.plot(xs, ys, zs, \"-o\")\n",
    "    \n",
    "    ax.set_xlim(-1.1, 1.1)\n",
    "    ax.set_ylim(-1.1, 1.1)\n",
    "    ax.set_zlim(-0.1, 2.1)\n",
    "    return ax"
   ]
  },
  {
   "cell_type": "code",
   "execution_count": null,
   "metadata": {
    "nbgrader": {
     "grade": true,
     "grade_id": "cell-4306e8821b779c0e",
     "locked": true,
     "points": 3,
     "schema_version": 1,
     "solution": false
    }
   },
   "outputs": [],
   "source": [
    "%matplotlib inline\n",
    "from matplotlib.pyplot import figure, plot, style\n",
    "from mpl_toolkits.mplot3d import Axes3D\n",
    "style.use(\"ggplot\")\n",
    "from numpy.testing import assert_allclose\n",
    "from numpy import array\n",
    "ax = grafica_PUMA(0,0.5,0.5)\n",
    "ls = ax.get_lines()\n",
    "assert_allclose(ls[0].get_xdata(), array([0, 0, 0.8775, 1.417885]), rtol=1e-01, atol=1e-01)\n",
    "assert_allclose(ls[0].get_ydata(), array([-0.0384900179, 0, 0.00915,  0.03809]), rtol=1e-01, atol=1e-01)"
   ]
  },
  {
   "cell_type": "markdown",
   "metadata": {},
   "source": [
    "---\n",
    "Utilice la función ```interact``` para manipular la posición del manipulador, de tal manera que su posición sea aproximadamente $q_1=0.6rad$, $q_2=0.2rad$ y $q_3 = -0.8rad$"
   ]
  },
  {
   "cell_type": "code",
   "execution_count": null,
   "metadata": {
    "nbgrader": {
     "grade": false,
     "grade_id": "cell-b66fd1a7b96109ff",
     "locked": false,
     "schema_version": 1,
     "solution": true
    }
   },
   "outputs": [],
   "source": [
    "%matplotlib inline\n",
    "from matplotlib.pyplot import figure, plot, style\n",
    "from mpl_toolkits.mplot3d import Axes3D\n",
    "style.use(\"ggplot\")\n",
    "from ipywidgets import interact\n",
    "from numpy import pi\n",
    "τ = 2*pi\n",
    "### BEGIN SOLUTION\n",
    "i1 = interact(grafica_PUMA, q1=(-τ, τ), q2=(-τ, τ), q3=(-1.0, 1.0))\n",
    "### END SOLUTION"
   ]
  },
  {
   "cell_type": "code",
   "execution_count": null,
   "metadata": {
    "nbgrader": {
     "grade": true,
     "grade_id": "cell-f447987899e058b0",
     "locked": true,
     "points": 2,
     "schema_version": 1,
     "solution": false
    }
   },
   "outputs": [],
   "source": [
    "from nose.tools import assert_almost_equal\n",
    "from numpy import pi\n",
    "τ = 2*pi\n",
    "### BEGIN HIDDEN TESTS\n",
    "q1_slider = i1.widget.children[0]\n",
    "q2_slider = i1.widget.children[1]\n",
    "q3_slider = i1.widget.children[2]\n",
    "assert_almost_equal(q1_slider.value, 0.6, 1)\n",
    "assert_almost_equal(q2_slider.value, 0.2, 1)\n",
    "assert_almost_equal(q3_slider.value, -0.8, 1)\n",
    "### END HIDDEN TESTS"
   ]
  }
 ],
 "metadata": {
  "celltoolbar": "Create Assignment",
  "css": [
   ""
  ],
  "kernelspec": {
   "display_name": "Python 3",
   "language": "python",
   "name": "python3"
  },
  "language_info": {
   "codemirror_mode": {
    "name": "ipython",
    "version": 3
   },
   "file_extension": ".py",
   "mimetype": "text/x-python",
   "name": "python",
   "nbconvert_exporter": "python",
   "pygments_lexer": "ipython3",
   "version": "3.6.4"
  }
 },
 "nbformat": 4,
 "nbformat_minor": 1
}
